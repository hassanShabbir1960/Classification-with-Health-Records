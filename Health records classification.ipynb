{
 "cells": [
  {
   "cell_type": "markdown",
   "id": "b03dd39a",
   "metadata": {},
   "source": [
    "## Approach used:\n",
    "\n",
    "\n",
    "    The following notebook contains the whole process of creating and comparing machine learning classifieres to classify the health records from input. We will be starting off with the data visualization, then we will preprocess the text annd then we will move for model training, tuning, the comparision between different models and then finally we will save our model in the disk for making predictions in future.\n",
    "\n",
    "\n",
    "    Here are the steps that we will be following to achieve the work that needs to be done:\n",
    "    \n",
    "    1. Dataset loading and pre-processing:\n",
    "\n",
    "       We started off with reading data set , checked out for the outliers and the missing values in our data set.\n",
    "\n",
    "    2. Data visualization:\n",
    "\n",
    "       We then did some data visualization that includes showing the data distribution, nature of the data set.\n",
    "    \n",
    "    \n",
    "    3.Training ,comparing the models performance:\n",
    "    \n",
    "       For the evaluation of the classifier built we used the metric accuracy that was tested on differnt folds using k-fold cross validation. And then we plot the  confusion matrix and an accuracy plot.\n",
    "    \n",
    "    4. Fine tuning and saving the model:\n",
    "    \n",
    "       We then fine tuned our models and compared their performances with other models.\n",
    "    \n",
    "    5. Training ensemble models:\n",
    "    \n",
    "       After this we trained ensemble models as they make better predictions and achieve better performance than any single contributing model.  \n",
    "\n"
   ]
  },
  {
   "cell_type": "markdown",
   "id": "a9203828",
   "metadata": {},
   "source": [
    "## Reading the data:\n",
    "    For reading the data, we are using pandas, it will read the data from the data directory and load it into a dataframe."
   ]
  },
  {
   "cell_type": "code",
   "execution_count": 1,
   "id": "d51d9ad8",
   "metadata": {},
   "outputs": [
    {
     "data": {
      "text/html": [
       "<div>\n",
       "<style scoped>\n",
       "    .dataframe tbody tr th:only-of-type {\n",
       "        vertical-align: middle;\n",
       "    }\n",
       "\n",
       "    .dataframe tbody tr th {\n",
       "        vertical-align: top;\n",
       "    }\n",
       "\n",
       "    .dataframe thead th {\n",
       "        text-align: right;\n",
       "    }\n",
       "</style>\n",
       "<table border=\"1\" class=\"dataframe\">\n",
       "  <thead>\n",
       "    <tr style=\"text-align: right;\">\n",
       "      <th></th>\n",
       "      <th>PatientId</th>\n",
       "      <th>AppointmentID</th>\n",
       "      <th>Gender</th>\n",
       "      <th>ScheduledDay</th>\n",
       "      <th>AppointmentDay</th>\n",
       "      <th>Age</th>\n",
       "      <th>Neighbourhood</th>\n",
       "      <th>Scholarship</th>\n",
       "      <th>Hipertension</th>\n",
       "      <th>Diabetes</th>\n",
       "      <th>Alcoholism</th>\n",
       "      <th>Handcap</th>\n",
       "      <th>SMS_received</th>\n",
       "      <th>No-show</th>\n",
       "    </tr>\n",
       "  </thead>\n",
       "  <tbody>\n",
       "    <tr>\n",
       "      <th>0</th>\n",
       "      <td>2.987250e+13</td>\n",
       "      <td>5642903</td>\n",
       "      <td>F</td>\n",
       "      <td>2016-04-29T18:38:08Z</td>\n",
       "      <td>2016-04-29T00:00:00Z</td>\n",
       "      <td>62</td>\n",
       "      <td>JARDIM DA PENHA</td>\n",
       "      <td>0</td>\n",
       "      <td>1</td>\n",
       "      <td>0</td>\n",
       "      <td>0</td>\n",
       "      <td>0</td>\n",
       "      <td>0</td>\n",
       "      <td>No</td>\n",
       "    </tr>\n",
       "    <tr>\n",
       "      <th>1</th>\n",
       "      <td>5.589978e+14</td>\n",
       "      <td>5642503</td>\n",
       "      <td>M</td>\n",
       "      <td>2016-04-29T16:08:27Z</td>\n",
       "      <td>2016-04-29T00:00:00Z</td>\n",
       "      <td>56</td>\n",
       "      <td>JARDIM DA PENHA</td>\n",
       "      <td>0</td>\n",
       "      <td>0</td>\n",
       "      <td>0</td>\n",
       "      <td>0</td>\n",
       "      <td>0</td>\n",
       "      <td>0</td>\n",
       "      <td>No</td>\n",
       "    </tr>\n",
       "    <tr>\n",
       "      <th>2</th>\n",
       "      <td>4.262962e+12</td>\n",
       "      <td>5642549</td>\n",
       "      <td>F</td>\n",
       "      <td>2016-04-29T16:19:04Z</td>\n",
       "      <td>2016-04-29T00:00:00Z</td>\n",
       "      <td>62</td>\n",
       "      <td>MATA DA PRAIA</td>\n",
       "      <td>0</td>\n",
       "      <td>0</td>\n",
       "      <td>0</td>\n",
       "      <td>0</td>\n",
       "      <td>0</td>\n",
       "      <td>0</td>\n",
       "      <td>No</td>\n",
       "    </tr>\n",
       "    <tr>\n",
       "      <th>3</th>\n",
       "      <td>8.679512e+11</td>\n",
       "      <td>5642828</td>\n",
       "      <td>F</td>\n",
       "      <td>2016-04-29T17:29:31Z</td>\n",
       "      <td>2016-04-29T00:00:00Z</td>\n",
       "      <td>8</td>\n",
       "      <td>PONTAL DE CAMBURI</td>\n",
       "      <td>0</td>\n",
       "      <td>0</td>\n",
       "      <td>0</td>\n",
       "      <td>0</td>\n",
       "      <td>0</td>\n",
       "      <td>0</td>\n",
       "      <td>No</td>\n",
       "    </tr>\n",
       "    <tr>\n",
       "      <th>4</th>\n",
       "      <td>8.841186e+12</td>\n",
       "      <td>5642494</td>\n",
       "      <td>F</td>\n",
       "      <td>2016-04-29T16:07:23Z</td>\n",
       "      <td>2016-04-29T00:00:00Z</td>\n",
       "      <td>56</td>\n",
       "      <td>JARDIM DA PENHA</td>\n",
       "      <td>0</td>\n",
       "      <td>1</td>\n",
       "      <td>1</td>\n",
       "      <td>0</td>\n",
       "      <td>0</td>\n",
       "      <td>0</td>\n",
       "      <td>No</td>\n",
       "    </tr>\n",
       "  </tbody>\n",
       "</table>\n",
       "</div>"
      ],
      "text/plain": [
       "      PatientId  AppointmentID Gender          ScheduledDay  \\\n",
       "0  2.987250e+13        5642903      F  2016-04-29T18:38:08Z   \n",
       "1  5.589978e+14        5642503      M  2016-04-29T16:08:27Z   \n",
       "2  4.262962e+12        5642549      F  2016-04-29T16:19:04Z   \n",
       "3  8.679512e+11        5642828      F  2016-04-29T17:29:31Z   \n",
       "4  8.841186e+12        5642494      F  2016-04-29T16:07:23Z   \n",
       "\n",
       "         AppointmentDay  Age      Neighbourhood  Scholarship  Hipertension  \\\n",
       "0  2016-04-29T00:00:00Z   62    JARDIM DA PENHA            0             1   \n",
       "1  2016-04-29T00:00:00Z   56    JARDIM DA PENHA            0             0   \n",
       "2  2016-04-29T00:00:00Z   62      MATA DA PRAIA            0             0   \n",
       "3  2016-04-29T00:00:00Z    8  PONTAL DE CAMBURI            0             0   \n",
       "4  2016-04-29T00:00:00Z   56    JARDIM DA PENHA            0             1   \n",
       "\n",
       "   Diabetes  Alcoholism  Handcap  SMS_received No-show  \n",
       "0         0           0        0             0      No  \n",
       "1         0           0        0             0      No  \n",
       "2         0           0        0             0      No  \n",
       "3         0           0        0             0      No  \n",
       "4         1           0        0             0      No  "
      ]
     },
     "execution_count": 1,
     "metadata": {},
     "output_type": "execute_result"
    }
   ],
   "source": [
    "import pandas as pd\n",
    "import numpy as np\n",
    "\n",
    "import warnings\n",
    "warnings.filterwarnings('ignore')\n",
    "\n",
    "## Reference for downloading the data set : https://www.kaggle.com/joniarroba/noshowappointments\n",
    "df = pd.read_csv(\"data/KaggleV2-May-2016.csv\")\n",
    "df.head()"
   ]
  },
  {
   "cell_type": "markdown",
   "id": "ca1f8fa4",
   "metadata": {},
   "source": [
    "## Remove records with erroneous entries :\n",
    "\n",
    "    Missing data reduce the representativeness of the sample and can therefore distort inferences about the population. So we will check if our data set has any missing values in it."
   ]
  },
  {
   "cell_type": "code",
   "execution_count": 2,
   "id": "a0739560",
   "metadata": {},
   "outputs": [],
   "source": [
    "def get_percentage_missing(series):\n",
    "    \"\"\" Calculates percentage of NaN values in DataFrame\n",
    "    :param series: Pandas DataFrame object\n",
    "    :return: float\n",
    "    \"\"\"\n",
    "    num = series.isnull().sum()\n",
    "    den = len(series)\n",
    "    return round(num/den, 2)"
   ]
  },
  {
   "cell_type": "code",
   "execution_count": 3,
   "id": "a05e2141",
   "metadata": {},
   "outputs": [
    {
     "data": {
      "text/plain": [
       "PatientId         0.0\n",
       "AppointmentID     0.0\n",
       "Gender            0.0\n",
       "ScheduledDay      0.0\n",
       "AppointmentDay    0.0\n",
       "Age               0.0\n",
       "Neighbourhood     0.0\n",
       "Scholarship       0.0\n",
       "Hipertension      0.0\n",
       "Diabetes          0.0\n",
       "Alcoholism        0.0\n",
       "Handcap           0.0\n",
       "SMS_received      0.0\n",
       "No-show           0.0\n",
       "dtype: float64"
      ]
     },
     "execution_count": 3,
     "metadata": {},
     "output_type": "execute_result"
    }
   ],
   "source": [
    "get_percentage_missing(df)"
   ]
  },
  {
   "cell_type": "code",
   "execution_count": 4,
   "id": "17dd87fe",
   "metadata": {},
   "outputs": [
    {
     "data": {
      "image/png": "[encoded data removed]",
      "text/plain": [
       "<Figure size 1080x720 with 9 Axes>"
      ]
     },
     "metadata": {
      "needs_background": "light"
     },
     "output_type": "display_data"
    }
   ],
   "source": [
    "\n",
    "## Plotting all the numeric columns to get an idea of their data distribution\n",
    "\n",
    "import matplotlib.pyplot as plt\n",
    "df.hist(layout=(3,3), figsize=(15,10))\n",
    "\n",
    "plt.show()"
   ]
  },
  {
   "cell_type": "code",
   "execution_count": 5,
   "id": "028ab6aa",
   "metadata": {},
   "outputs": [
    {
     "name": "stdout",
     "output_type": "stream",
     "text": [
      "Columns excluded : PatientId & AppointmentID\n"
     ]
    }
   ],
   "source": [
    "## We will not be considering PatientID and Appointment ID in our training columns. Because our data samples are \n",
    "## independent and identically distributed so we can remove the sample IDs. It is given that all samples come \n",
    "## from or refer to the same source/object and they don't somehow identify the sample class.\n",
    "\n",
    "df.pop('PatientId')\n",
    "df.pop('AppointmentID')\n",
    "\n",
    "print(\"Columns excluded : PatientId & AppointmentID\")"
   ]
  },
  {
   "cell_type": "code",
   "execution_count": 6,
   "id": "5159b500",
   "metadata": {},
   "outputs": [],
   "source": [
    "## By looking at the distributions above, we saw that age variable has some erroneous entries in it, so we will\n",
    "## settle them first.\n",
    "\n",
    "## We know that age of a person cannot be less than zero or greater than a certain amount, so we will replace all\n",
    "##these erroneous entries with NaN, later on we will replace them in our pipeline.\n",
    "\n",
    "df['Age'] = df['Age'].mask(df['Age'].sub(df['Age'].mean()).div(df['Age'].std()).abs().gt(2))"
   ]
  },
  {
   "cell_type": "markdown",
   "id": "41184b99",
   "metadata": {},
   "source": [
    "## Seperating training and test data:"
   ]
  },
  {
   "cell_type": "code",
   "execution_count": 7,
   "id": "37ba5d86",
   "metadata": {},
   "outputs": [],
   "source": [
    "## Using stratified sampling on the No-show variable to ensure test set and training set class proportions \n",
    "## are the same\n",
    "\n",
    "\n",
    "from sklearn.model_selection import StratifiedShuffleSplit\n",
    "\n",
    "split = StratifiedShuffleSplit(n_splits=1, test_size=0.189, random_state=1234)\n",
    "for train_index, test_index in split.split(df, df[\"No-show\"]):\n",
    "    train_set = df.loc[train_index]\n",
    "    test_set = df.loc[test_index]"
   ]
  },
  {
   "cell_type": "code",
   "execution_count": 8,
   "id": "99f90470",
   "metadata": {},
   "outputs": [],
   "source": [
    "## Saving the train and test sets as csv files in the processed_data directory\n",
    "\n",
    "train_set.to_csv(\"./processed_data/Trainingdata.csv\",index=False)\n",
    "test_set.to_csv(\"./processed_data/Testdata.csv\",index=False)\n"
   ]
  },
  {
   "cell_type": "code",
   "execution_count": 9,
   "id": "56b91a8d",
   "metadata": {},
   "outputs": [],
   "source": [
    "## Seperating the independent and dependent variables\n",
    "X=train_set.loc[:, train_set.columns != 'No-show'] # It will contains all columns except our target column\n",
    "Y=train_set.loc[:, train_set.columns == 'No-show'] #It will contain target column"
   ]
  },
  {
   "cell_type": "markdown",
   "id": "64467150",
   "metadata": {},
   "source": [
    "## Plot the No-show variable against the other variables in the dataset:"
   ]
  },
  {
   "cell_type": "code",
   "execution_count": 10,
   "id": "4a06bd22",
   "metadata": {},
   "outputs": [],
   "source": [
    "#numerical features\n",
    "num_cols = X.select_dtypes([int, float]).columns\n",
    "\n",
    "## Converting target categorical column to numeric column\n",
    "\n",
    "from sklearn.preprocessing import LabelEncoder\n",
    "y_converted = LabelEncoder().fit_transform(np.ravel(Y))"
   ]
  },
  {
   "cell_type": "code",
   "execution_count": 11,
   "id": "d186ed50",
   "metadata": {
    "scrolled": true
   },
   "outputs": [
    {
     "data": {
      "image/png": "[encoded data removed]",
      "text/plain": [
       "<Figure size 432x288 with 1 Axes>"
      ]
     },
     "metadata": {
      "needs_background": "light"
     },
     "output_type": "display_data"
    },
    {
     "data": {
      "image/png": "[encoded data removed]",
      "text/plain": [
       "<Figure size 432x288 with 1 Axes>"
      ]
     },
     "metadata": {
      "needs_background": "light"
     },
     "output_type": "display_data"
    },
    {
     "data": {
      "image/png": "[encoded data removed]",
      "text/plain": [
       "<Figure size 432x288 with 1 Axes>"
      ]
     },
     "metadata": {
      "needs_background": "light"
     },
     "output_type": "display_data"
    },
    {
     "data": {
      "image/png": "[encoded data removed]",
      "text/plain": [
       "<Figure size 432x288 with 1 Axes>"
      ]
     },
     "metadata": {
      "needs_background": "light"
     },
     "output_type": "display_data"
    },
    {
     "data": {
      "image/png": "[encoded data removed]",
      "text/plain": [
       "<Figure size 432x288 with 1 Axes>"
      ]
     },
     "metadata": {
      "needs_background": "light"
     },
     "output_type": "display_data"
    },
    {
     "data": {
      "image/png": "[encoded data removed]",
      "text/plain": [
       "<Figure size 432x288 with 1 Axes>"
      ]
     },
     "metadata": {
      "needs_background": "light"
     },
     "output_type": "display_data"
    },
    {
     "data": {
      "image/png": "[encoded data removed]",
      "text/plain": [
       "<Figure size 432x288 with 1 Axes>"
      ]
     },
     "metadata": {
      "needs_background": "light"
     },
     "output_type": "display_data"
    }
   ],
   "source": [
    "for i in num_cols:\n",
    "    plt.plot(X[i],y_converted)\n",
    "    plt.title(i+\"Vs No-show \")\n",
    "    plt.xlabel(i+\"\")\n",
    "    plt.ylabel(\"No-show\")\n",
    "    plt.show()"
   ]
  },
  {
   "cell_type": "code",
   "execution_count": 12,
   "id": "b0e0c667",
   "metadata": {},
   "outputs": [
    {
     "name": "stdout",
     "output_type": "stream",
     "text": [
      "Requirement already satisfied: sklearn_pipeline_utils in /home/hassan/anaconda3/lib/python3.8/site-packages (0.11)\n",
      "Requirement already satisfied: sklearn_pandas in /home/hassan/anaconda3/lib/python3.8/site-packages (2.2.0)\n",
      "Requirement already satisfied: scikit-learn>=0.23.0 in /home/hassan/anaconda3/lib/python3.8/site-packages (from sklearn_pandas) (0.24.1)\n",
      "Requirement already satisfied: scipy>=1.5.1 in /home/hassan/anaconda3/lib/python3.8/site-packages (from sklearn_pandas) (1.7.1)\n",
      "Requirement already satisfied: numpy>=1.18.1 in /home/hassan/anaconda3/lib/python3.8/site-packages (from sklearn_pandas) (1.21.2)\n",
      "Requirement already satisfied: pandas>=1.1.4 in /home/hassan/anaconda3/lib/python3.8/site-packages (from sklearn_pandas) (1.2.4)\n",
      "Requirement already satisfied: python-dateutil>=2.7.3 in /home/hassan/anaconda3/lib/python3.8/site-packages (from pandas>=1.1.4->sklearn_pandas) (2.8.1)\n",
      "Requirement already satisfied: pytz>=2017.3 in /home/hassan/anaconda3/lib/python3.8/site-packages (from pandas>=1.1.4->sklearn_pandas) (2021.1)\n",
      "Requirement already satisfied: six>=1.5 in /home/hassan/anaconda3/lib/python3.8/site-packages (from python-dateutil>=2.7.3->pandas>=1.1.4->sklearn_pandas) (1.15.0)\n",
      "Requirement already satisfied: threadpoolctl>=2.0.0 in /home/hassan/anaconda3/lib/python3.8/site-packages (from scikit-learn>=0.23.0->sklearn_pandas) (2.1.0)\n",
      "Requirement already satisfied: joblib>=0.11 in /home/hassan/anaconda3/lib/python3.8/site-packages (from scikit-learn>=0.23.0->sklearn_pandas) (1.0.1)\n"
     ]
    }
   ],
   "source": [
    "!pip install sklearn_pipeline_utils\n",
    "!pip install sklearn_pandas"
   ]
  },
  {
   "cell_type": "markdown",
   "id": "c991f7ac",
   "metadata": {},
   "source": [
    "## Creating a preprocessing pipeline:"
   ]
  },
  {
   "cell_type": "code",
   "execution_count": 13,
   "id": "d24cbb35",
   "metadata": {},
   "outputs": [],
   "source": [
    "import numpy as np\n",
    "from sklearn.pipeline import Pipeline, make_pipeline\n",
    "\n",
    "from sklearn.preprocessing import FunctionTransformer\n",
    "from sklearn.base import BaseEstimator, TransformerMixin\n",
    "from sklearn_pandas import DataFrameMapper\n",
    "\n",
    "class CustomImputer(BaseEstimator, TransformerMixin):\n",
    "    def __init__(self, method='mean', to_fill_with='NA'):\n",
    "        self.method = method\n",
    "        self.fill = to_fill_with\n",
    "\n",
    "    def fit(self, X, y=None):\n",
    "        if self.method in ['mean', 'median']:\n",
    "            if not all([dtype in [np.number, np.int] for dtype in X.dtypes]):\n",
    "                raise ValueError('Only mean median and mode method is supported')\n",
    "        if self.method == 'mean':\n",
    "            self.fill = X.mean()\n",
    "        elif self.method == 'median':\n",
    "            self.fill = X.median()\n",
    "        elif self.method == 'mode':\n",
    "            self.fill = X.mode().iloc[0]\n",
    "        elif self.method == 'fill':\n",
    "            if type(self.fill) is list and type(X) is pd.DataFrame:\n",
    "                self.fill = dict([(cname, v) for cname, v in zip(X.columns, self.fill)])\n",
    "        return self\n",
    "\n",
    "    def transform(self, X, y=None):\n",
    "        return X.fillna(self.fill)"
   ]
  },
  {
   "cell_type": "code",
   "execution_count": 14,
   "id": "8ab19ff0",
   "metadata": {},
   "outputs": [],
   "source": [
    "## Making our own pipeline for numerical data\n",
    "\n",
    "numerical_data_pipeline = DataFrameMapper(\n",
    "        [(X.select_dtypes([int, float]).columns,\n",
    "        CustomImputer(method='median'), {'alias': 'numerical_data'}\n",
    "        )    \n",
    "        ],input_df=True ,df_out=True)\n",
    "\n",
    "\n",
    "\n",
    "from sklearn.preprocessing import StandardScaler\n",
    "from sklearn.preprocessing import MinMaxScaler\n",
    "\n",
    "scaled_numerical_pipeline = make_pipeline(\n",
    "    numerical_data_pipeline,\n",
    "    StandardScaler(),\n",
    "    MinMaxScaler()\n",
    ")\n",
    "\n"
   ]
  },
  {
   "cell_type": "code",
   "execution_count": 15,
   "id": "a85efc21",
   "metadata": {},
   "outputs": [
    {
     "data": {
      "text/html": [
       "<div>\n",
       "<style scoped>\n",
       "    .dataframe tbody tr th:only-of-type {\n",
       "        vertical-align: middle;\n",
       "    }\n",
       "\n",
       "    .dataframe tbody tr th {\n",
       "        vertical-align: top;\n",
       "    }\n",
       "\n",
       "    .dataframe thead th {\n",
       "        text-align: right;\n",
       "    }\n",
       "</style>\n",
       "<table border=\"1\" class=\"dataframe\">\n",
       "  <thead>\n",
       "    <tr style=\"text-align: right;\">\n",
       "      <th></th>\n",
       "      <th>numerical_data_0</th>\n",
       "      <th>numerical_data_1</th>\n",
       "      <th>numerical_data_2</th>\n",
       "      <th>numerical_data_3</th>\n",
       "      <th>numerical_data_4</th>\n",
       "      <th>numerical_data_5</th>\n",
       "      <th>numerical_data_6</th>\n",
       "    </tr>\n",
       "  </thead>\n",
       "  <tbody>\n",
       "    <tr>\n",
       "      <th>64781</th>\n",
       "      <td>35.0</td>\n",
       "      <td>0</td>\n",
       "      <td>0</td>\n",
       "      <td>0</td>\n",
       "      <td>0</td>\n",
       "      <td>0</td>\n",
       "      <td>1</td>\n",
       "    </tr>\n",
       "    <tr>\n",
       "      <th>33727</th>\n",
       "      <td>52.0</td>\n",
       "      <td>1</td>\n",
       "      <td>0</td>\n",
       "      <td>0</td>\n",
       "      <td>0</td>\n",
       "      <td>0</td>\n",
       "      <td>0</td>\n",
       "    </tr>\n",
       "    <tr>\n",
       "      <th>13711</th>\n",
       "      <td>12.0</td>\n",
       "      <td>0</td>\n",
       "      <td>0</td>\n",
       "      <td>0</td>\n",
       "      <td>0</td>\n",
       "      <td>0</td>\n",
       "      <td>0</td>\n",
       "    </tr>\n",
       "    <tr>\n",
       "      <th>104875</th>\n",
       "      <td>50.0</td>\n",
       "      <td>0</td>\n",
       "      <td>0</td>\n",
       "      <td>0</td>\n",
       "      <td>0</td>\n",
       "      <td>0</td>\n",
       "      <td>0</td>\n",
       "    </tr>\n",
       "    <tr>\n",
       "      <th>51299</th>\n",
       "      <td>17.0</td>\n",
       "      <td>0</td>\n",
       "      <td>0</td>\n",
       "      <td>0</td>\n",
       "      <td>0</td>\n",
       "      <td>0</td>\n",
       "      <td>1</td>\n",
       "    </tr>\n",
       "    <tr>\n",
       "      <th>...</th>\n",
       "      <td>...</td>\n",
       "      <td>...</td>\n",
       "      <td>...</td>\n",
       "      <td>...</td>\n",
       "      <td>...</td>\n",
       "      <td>...</td>\n",
       "      <td>...</td>\n",
       "    </tr>\n",
       "    <tr>\n",
       "      <th>94003</th>\n",
       "      <td>0.0</td>\n",
       "      <td>0</td>\n",
       "      <td>0</td>\n",
       "      <td>0</td>\n",
       "      <td>0</td>\n",
       "      <td>0</td>\n",
       "      <td>0</td>\n",
       "    </tr>\n",
       "    <tr>\n",
       "      <th>20314</th>\n",
       "      <td>18.0</td>\n",
       "      <td>0</td>\n",
       "      <td>0</td>\n",
       "      <td>0</td>\n",
       "      <td>0</td>\n",
       "      <td>0</td>\n",
       "      <td>0</td>\n",
       "    </tr>\n",
       "    <tr>\n",
       "      <th>83679</th>\n",
       "      <td>71.0</td>\n",
       "      <td>0</td>\n",
       "      <td>0</td>\n",
       "      <td>1</td>\n",
       "      <td>0</td>\n",
       "      <td>0</td>\n",
       "      <td>0</td>\n",
       "    </tr>\n",
       "    <tr>\n",
       "      <th>50014</th>\n",
       "      <td>36.0</td>\n",
       "      <td>0</td>\n",
       "      <td>0</td>\n",
       "      <td>0</td>\n",
       "      <td>0</td>\n",
       "      <td>0</td>\n",
       "      <td>0</td>\n",
       "    </tr>\n",
       "    <tr>\n",
       "      <th>10278</th>\n",
       "      <td>30.0</td>\n",
       "      <td>0</td>\n",
       "      <td>0</td>\n",
       "      <td>0</td>\n",
       "      <td>0</td>\n",
       "      <td>0</td>\n",
       "      <td>0</td>\n",
       "    </tr>\n",
       "  </tbody>\n",
       "</table>\n",
       "<p>89637 rows × 7 columns</p>\n",
       "</div>"
      ],
      "text/plain": [
       "        numerical_data_0  numerical_data_1  numerical_data_2  \\\n",
       "64781               35.0                 0                 0   \n",
       "33727               52.0                 1                 0   \n",
       "13711               12.0                 0                 0   \n",
       "104875              50.0                 0                 0   \n",
       "51299               17.0                 0                 0   \n",
       "...                  ...               ...               ...   \n",
       "94003                0.0                 0                 0   \n",
       "20314               18.0                 0                 0   \n",
       "83679               71.0                 0                 0   \n",
       "50014               36.0                 0                 0   \n",
       "10278               30.0                 0                 0   \n",
       "\n",
       "        numerical_data_3  numerical_data_4  numerical_data_5  numerical_data_6  \n",
       "64781                  0                 0                 0                 1  \n",
       "33727                  0                 0                 0                 0  \n",
       "13711                  0                 0                 0                 0  \n",
       "104875                 0                 0                 0                 0  \n",
       "51299                  0                 0                 0                 1  \n",
       "...                  ...               ...               ...               ...  \n",
       "94003                  0                 0                 0                 0  \n",
       "20314                  0                 0                 0                 0  \n",
       "83679                  1                 0                 0                 0  \n",
       "50014                  0                 0                 0                 0  \n",
       "10278                  0                 0                 0                 0  \n",
       "\n",
       "[89637 rows x 7 columns]"
      ]
     },
     "execution_count": 15,
     "metadata": {},
     "output_type": "execute_result"
    }
   ],
   "source": [
    "numerical_data_pipeline.fit_transform(X)"
   ]
  },
  {
   "cell_type": "code",
   "execution_count": 16,
   "id": "87d44746",
   "metadata": {},
   "outputs": [],
   "source": [
    "from sklearn.preprocessing import LabelBinarizer, OneHotEncoder,LabelEncoder\n",
    "from sklearn_pandas import gen_features\n",
    "\n",
    "impute_mode_cols = gen_features(\n",
    "    columns=X.select_dtypes('object').columns,\n",
    "    classes=[\n",
    "        {'class':CustomImputer,'method':'mode'},\n",
    "        {'class':LabelEncoder}\n",
    "    ]\n",
    ")"
   ]
  },
  {
   "cell_type": "code",
   "execution_count": 17,
   "id": "e946112f",
   "metadata": {},
   "outputs": [
    {
     "data": {
      "text/plain": [
       "array([[    0,  4137,     2,    38],\n",
       "       [    0, 45699,    10,    36],\n",
       "       [    0, 13767,    16,    24],\n",
       "       ...,\n",
       "       [    1,  8570,     4,    36],\n",
       "       [    0, 17503,    13,    39],\n",
       "       [    0, 35022,     5,    23]])"
      ]
     },
     "execution_count": 17,
     "metadata": {},
     "output_type": "execute_result"
    }
   ],
   "source": [
    "from sklearn.pipeline import FeatureUnion, make_union\n",
    "\n",
    "categorical_data_pipeline = make_union(\n",
    "    DataFrameMapper(impute_mode_cols, input_df=True, df_out=True)\n",
    ")\n",
    "categorical_data_pipeline.fit_transform(X)"
   ]
  },
  {
   "cell_type": "code",
   "execution_count": 18,
   "id": "423c47c0",
   "metadata": {},
   "outputs": [],
   "source": [
    "## Final pipeline for pre-processing our features\n",
    "features_pipeline = make_union(scaled_numerical_pipeline, \n",
    "                      categorical_data_pipeline)"
   ]
  },
  {
   "cell_type": "code",
   "execution_count": 19,
   "id": "f4e98208",
   "metadata": {},
   "outputs": [],
   "source": [
    "final_X = features_pipeline.fit_transform(X)"
   ]
  },
  {
   "cell_type": "code",
   "execution_count": 37,
   "id": "eefcd226",
   "metadata": {},
   "outputs": [],
   "source": [
    "final_dataframe = pd.concat([ pd.DataFrame(y_converted),pd.DataFrame(final_X)] ,axis=1)"
   ]
  },
  {
   "cell_type": "code",
   "execution_count": 38,
   "id": "949fc74b",
   "metadata": {},
   "outputs": [],
   "source": [
    "final_dataframe.to_csv(\"Trainingdata.csv\",index=False)"
   ]
  },
  {
   "cell_type": "markdown",
   "id": "4f7d3a3d",
   "metadata": {},
   "source": [
    "## Reading the data:\n",
    "    For reading the data, we are using pandas, it will read the data from the preprocessed data directory and load it into a dataframe."
   ]
  },
  {
   "cell_type": "code",
   "execution_count": 12,
   "id": "9e0b00fc",
   "metadata": {},
   "outputs": [],
   "source": [
    "import pandas as pd\n",
    "\n",
    "import warnings ## To ignore the warnings\n",
    "warnings.filterwarnings('ignore')\n",
    "\n",
    "traindf = pd.read_csv(\"Trainingdata.csv\")\n"
   ]
  },
  {
   "cell_type": "markdown",
   "id": "0beb8654",
   "metadata": {},
   "source": [
    "## Seperating the independent and dependent variables"
   ]
  },
  {
   "cell_type": "code",
   "execution_count": 14,
   "id": "185199ea",
   "metadata": {},
   "outputs": [],
   "source": [
    "\n",
    "X_train=traindf.loc[:, traindf.columns != '0'] # It will contains all columns except our target column\n",
    "y_train=traindf.loc[:, traindf.columns == '0'] #It will contain target column"
   ]
  },
  {
   "cell_type": "markdown",
   "id": "89a28e2a",
   "metadata": {},
   "source": [
    "## K Fold cross validation:"
   ]
  },
  {
   "cell_type": "code",
   "execution_count": 5,
   "id": "82be1212",
   "metadata": {},
   "outputs": [],
   "source": [
    "from sklearn.model_selection import KFold\n",
    "import seaborn as sns\n",
    "from sklearn.metrics import accuracy_score,roc_auc_score\n",
    "import numpy as np\n",
    "import matplotlib.pyplot as plt\n",
    "\n",
    "\n",
    "def k_fold_cross_validation(training_columns, labels, Classifier, name_of_model): \n",
    " \n",
    "\n",
    "    kf = KFold( shuffle=True,n_splits=10)# Initializing KFold object with 10 as k-value\n",
    "    accs=[]\n",
    "    training_columns_train_array = []\n",
    "    labels_train_array = []\n",
    "    training_columns_test_array = []\n",
    "    labels_test_array = []\n",
    "    iter = 0\n",
    "    print(\"Applying K fold cv algorithm for :\", (name_of_model))\n",
    "    for training_indices, test_indices in kf.split(training_columns):\n",
    "        iter += 1\n",
    "        print(\"iter \", iter)\n",
    "        training_columns_train_cv, labels_train_cv = training_columns.iloc[training_indices], labels.iloc[training_indices]\n",
    "        training_columns_test_cv, labels_test_cv = training_columns.iloc[test_indices], labels.iloc[test_indices]\n",
    "        training_columns_train_array.append(training_columns_train_cv) # adding training score for  the given iteration\n",
    "        training_columns_test_array.append(training_columns_test_cv) # adding test score for iteration\n",
    "        labels_train_array.append(labels_train_cv)  # adding training labels for  the given iteration\n",
    "        labels_test_array.append(labels_test_cv)  # adding test labels for  the given iteration\n",
    "        print(\"Shape of training training_columns: \", training_columns_train_cv.shape)\n",
    "        print(\"Shape of test training_columns: \", training_columns_test_cv.shape)\n",
    "        Classifier.fit(training_columns_train_cv, labels_train_cv) \n",
    "        preds = Classifier.predict(training_columns_test_cv)\n",
    "        score = accuracy_score(preds, labels_test_cv) # Calculating acc\n",
    "        accs.append(score) # adding k-fold  acc for each iter\n",
    "    print(\"List of k-fold  accs for {}: \".format(name_of_model), accs)\n",
    "    average_acc = np.mean(accs)\n",
    "    print(\"\\nAverage k-fold  acc for {}: \".format(name_of_model), average_acc)\n",
    "    print(\"\\nBest k-fold  acc for {}: \".format(name_of_model), max(accs))\n",
    "    maximum_acc_index = accs.index(max(accs)) # best k-fold  acc\n",
    "    maximum_acc_training_columns_train = training_columns_train_array[maximum_acc_index] # training training_columns corresponding to best k-fold  acc\n",
    "    maximum_acc_training_columns_test = training_columns_test_array[maximum_acc_index] # test training_columns corresponding to best k-fold  acc\n",
    "    maximum_acc_labels_train = labels_train_array[maximum_acc_index] # training labels corresponding to best k-fold  acc\n",
    "    maximum_acc_labels_test = labels_test_array[maximum_acc_index] # test labels corresponding to best k-fold  acc\n",
    "\n",
    " \n",
    "\n",
    "    return average_acc, maximum_acc_training_columns_train, maximum_acc_training_columns_test, maximum_acc_labels_train, maximum_acc_labels_test,accs\n",
    "\n",
    "\n",
    "\n",
    "## To visualize the performance of each Classifier, we will be noting its  accuracy\n",
    "from sklearn.metrics import classification_report,confusion_matrix\n",
    "import seaborn as sns\n",
    "def evaluate(max_acc_data_train, max_acc_data_test, max_acc_targets_train, max_acc_targets_test, targets, regr): \n",
    "    regr.fit(max_acc_data_train, max_acc_targets_train) #\n",
    "    targets_pred = regr.predict(max_acc_data_test) # Prediction on test data\n",
    "    \n",
    "    print(\"roc_auc_score\")\n",
    "    rep = roc_auc_score(max_acc_targets_test, targets_pred)\n",
    "    print(rep)\n",
    "    \n",
    "    \n",
    "    "
   ]
  },
  {
   "cell_type": "code",
   "execution_count": 32,
   "id": "0a33a24c",
   "metadata": {},
   "outputs": [],
   "source": [
    "DecisionTreeClassifier?"
   ]
  },
  {
   "cell_type": "markdown",
   "id": "da1679f0",
   "metadata": {},
   "source": [
    "## Simple Classification models with default parameters:"
   ]
  },
  {
   "cell_type": "code",
   "execution_count": 34,
   "id": "81201206",
   "metadata": {},
   "outputs": [
    {
     "name": "stdout",
     "output_type": "stream",
     "text": [
      "Applying K fold cv algorithm for : DT\n",
      "iter  1\n",
      "Shape of training training_columns:  (80673, 11)\n",
      "Shape of test training_columns:  (8964, 11)\n",
      "iter  2\n",
      "Shape of training training_columns:  (80673, 11)\n",
      "Shape of test training_columns:  (8964, 11)\n",
      "iter  3\n",
      "Shape of training training_columns:  (80673, 11)\n",
      "Shape of test training_columns:  (8964, 11)\n",
      "iter  4\n",
      "Shape of training training_columns:  (80673, 11)\n",
      "Shape of test training_columns:  (8964, 11)\n",
      "iter  5\n",
      "Shape of training training_columns:  (80673, 11)\n",
      "Shape of test training_columns:  (8964, 11)\n",
      "iter  6\n",
      "Shape of training training_columns:  (80673, 11)\n",
      "Shape of test training_columns:  (8964, 11)\n",
      "iter  7\n",
      "Shape of training training_columns:  (80673, 11)\n",
      "Shape of test training_columns:  (8964, 11)\n",
      "iter  8\n",
      "Shape of training training_columns:  (80674, 11)\n",
      "Shape of test training_columns:  (8963, 11)\n",
      "iter  9\n",
      "Shape of training training_columns:  (80674, 11)\n",
      "Shape of test training_columns:  (8963, 11)\n",
      "iter  10\n",
      "Shape of training training_columns:  (80674, 11)\n",
      "Shape of test training_columns:  (8963, 11)\n",
      "List of k-fold  accs for DT:  [0.8026550647032574, 0.7927264614011602, 0.8008701472556894, 0.7946229361892012, 0.7961847389558233, 0.8020972780008925, 0.8004239178937974, 0.7977239763472052, 0.7949347316746626, 0.7983933950686154]\n",
      "\n",
      "Average k-fold  acc for DT:  0.7980632647490304\n",
      "\n",
      "Best k-fold  acc for DT:  0.8026550647032574\n",
      "roc_auc_score\n",
      "0.5\n"
     ]
    },
    {
     "data": {
      "image/png": "[encoded data removed]",
      "text/plain": [
       "<Figure size 432x288 with 1 Axes>"
      ]
     },
     "metadata": {
      "needs_background": "light"
     },
     "output_type": "display_data"
    }
   ],
   "source": [
    "from sklearn.tree import DecisionTreeClassifier\n",
    "\n",
    "\n",
    "clf = DecisionTreeClassifier(min_impurity_decrease=0.4) # DT Model\n",
    "DT_mean_accuracy, max_acc_data_train, max_acc_data_test, max_acc_targets_train, max_acc_targets_test,dt_scores = k_fold_cross_validation(X_train, y_train, clf, \"DT\") # cross-validation\n",
    "evaluate(max_acc_data_train, max_acc_data_test, max_acc_targets_train, max_acc_targets_test, y_train, clf) #  confusion matrix\n",
    "\n",
    "## Comparision through graphs\n",
    "\n",
    "\n",
    "## argument has accuracy values\n",
    "plt.plot(dt_scores,color='r',label=\"Decision Tree\")\n",
    "plt.legend(loc=\"best\")\n",
    "\n",
    "plt.title(\"Accuracy accross each fold\") ## Setting subtitle of fig 1\n",
    "plt.xlabel(\"Folds\") ## Setting x-label of fig 1\n",
    "plt.ylabel(\"Accuracy\"); ## Setting y-label of fig 1"
   ]
  },
  {
   "cell_type": "code",
   "execution_count": 35,
   "id": "369a82ff",
   "metadata": {},
   "outputs": [
    {
     "name": "stdout",
     "output_type": "stream",
     "text": [
      "Applying K fold cv algorithm for : RF\n",
      "iter  1\n",
      "Shape of training training_columns:  (80673, 11)\n",
      "Shape of test training_columns:  (8964, 11)\n",
      "iter  2\n",
      "Shape of training training_columns:  (80673, 11)\n",
      "Shape of test training_columns:  (8964, 11)\n",
      "iter  3\n",
      "Shape of training training_columns:  (80673, 11)\n",
      "Shape of test training_columns:  (8964, 11)\n",
      "iter  4\n",
      "Shape of training training_columns:  (80673, 11)\n",
      "Shape of test training_columns:  (8964, 11)\n",
      "iter  5\n",
      "Shape of training training_columns:  (80673, 11)\n",
      "Shape of test training_columns:  (8964, 11)\n",
      "iter  6\n",
      "Shape of training training_columns:  (80673, 11)\n",
      "Shape of test training_columns:  (8964, 11)\n",
      "iter  7\n",
      "Shape of training training_columns:  (80673, 11)\n",
      "Shape of test training_columns:  (8964, 11)\n",
      "iter  8\n",
      "Shape of training training_columns:  (80674, 11)\n",
      "Shape of test training_columns:  (8963, 11)\n",
      "iter  9\n",
      "Shape of training training_columns:  (80674, 11)\n",
      "Shape of test training_columns:  (8963, 11)\n",
      "iter  10\n",
      "Shape of training training_columns:  (80674, 11)\n",
      "Shape of test training_columns:  (8963, 11)\n",
      "List of k-fold  accs for RF:  [0.7916108879964302, 0.7957385095939313, 0.8004239178937974, 0.8031012940651495, 0.7928380187416332, 0.7938420348058902, 0.8000892458723784, 0.7971661274126967, 0.7991743835769274, 0.8066495592993418]\n",
      "\n",
      "Average k-fold  acc for RF:  0.7980633979258177\n",
      "\n",
      "Best k-fold  acc for RF:  0.8066495592993418\n",
      "roc_auc_score\n",
      "0.5\n"
     ]
    },
    {
     "data": {
      "image/png": "[encoded data removed]",
      "text/plain": [
       "<Figure size 432x288 with 1 Axes>"
      ]
     },
     "metadata": {
      "needs_background": "light"
     },
     "output_type": "display_data"
    }
   ],
   "source": [
    "from sklearn.ensemble import RandomForestClassifier\n",
    "\n",
    "clf = RandomForestClassifier(min_impurity_decrease=0.3) # DT Model\n",
    "DT_mean_accuracy, max_acc_data_train, max_acc_data_test, max_acc_targets_train, max_acc_targets_test,dt_scores = k_fold_cross_validation(X_train, y_train, clf, \"RF\") # cross-validation\n",
    "evaluate(max_acc_data_train, max_acc_data_test, max_acc_targets_train, max_acc_targets_test, y_train, clf) #  confusion matrix\n",
    "\n",
    "## Comparision through graphs\n",
    "\n",
    "\n",
    "## argument has accuracy values\n",
    "plt.plot(dt_scores,color='r',label=\"Random Forest\")\n",
    "plt.legend(loc=\"best\")\n",
    "\n",
    "plt.title(\"Accuracy accross each fold\") ## Setting subtitle of fig 1\n",
    "plt.xlabel(\"Folds\") ## Setting x-label of fig 1\n",
    "plt.ylabel(\"Accuracy\"); ## Setting y-label of fig 1"
   ]
  },
  {
   "cell_type": "code",
   "execution_count": 67,
   "id": "c89ec301",
   "metadata": {},
   "outputs": [
    {
     "name": "stdout",
     "output_type": "stream",
     "text": [
      "Applying K fold cv algorithm for : LinearSVC\n",
      "iter  1\n",
      "Shape of training training_columns:  (80673, 11)\n",
      "Shape of test training_columns:  (8964, 11)\n",
      "iter  2\n",
      "Shape of training training_columns:  (80673, 11)\n",
      "Shape of test training_columns:  (8964, 11)\n",
      "iter  3\n",
      "Shape of training training_columns:  (80673, 11)\n",
      "Shape of test training_columns:  (8964, 11)\n",
      "iter  4\n",
      "Shape of training training_columns:  (80673, 11)\n",
      "Shape of test training_columns:  (8964, 11)\n",
      "iter  5\n",
      "Shape of training training_columns:  (80673, 11)\n",
      "Shape of test training_columns:  (8964, 11)\n",
      "iter  6\n",
      "Shape of training training_columns:  (80673, 11)\n",
      "Shape of test training_columns:  (8964, 11)\n",
      "iter  7\n",
      "Shape of training training_columns:  (80673, 11)\n",
      "Shape of test training_columns:  (8964, 11)\n",
      "iter  8\n",
      "Shape of training training_columns:  (80674, 11)\n",
      "Shape of test training_columns:  (8963, 11)\n",
      "iter  9\n",
      "Shape of training training_columns:  (80674, 11)\n",
      "Shape of test training_columns:  (8963, 11)\n",
      "iter  10\n",
      "Shape of training training_columns:  (80674, 11)\n",
      "Shape of test training_columns:  (8963, 11)\n",
      "List of k-fold  accs for LinearSVC:  [0.24375278893351182, 0.7973003123605533, 0.7957385095939313, 0.3167112896028559, 0.7936189201249442, 0.6394466755912539, 0.7970771976796073, 0.8014057793149615, 0.7957157201829744, 0.296664063371639]\n",
      "\n",
      "Average k-fold  acc for LinearSVC:  0.6277431256756232\n",
      "\n",
      "Best k-fold  acc for LinearSVC:  0.8014057793149615\n",
      "roc_auc_score\n",
      "0.5\n"
     ]
    },
    {
     "data": {
      "image/png": "[encoded data removed]",
      "text/plain": [
       "<Figure size 432x288 with 1 Axes>"
      ]
     },
     "metadata": {
      "needs_background": "light"
     },
     "output_type": "display_data"
    }
   ],
   "source": [
    "from sklearn.svm import LinearSVC\n",
    "\n",
    "\n",
    "clf = LinearSVC() #  Model\n",
    "DT_mean_accuracy, max_acc_data_train, max_acc_data_test, max_acc_targets_train, max_acc_targets_test,dt_scores = k_fold_cross_validation(X_train, y_train, clf, \"LinearSVC\") # cross-validation\n",
    "evaluate(max_acc_data_train, max_acc_data_test, max_acc_targets_train, max_acc_targets_test, y_train, clf) #  confusion matrix\n",
    "\n",
    "## Comparision through graphs\n",
    "\n",
    "\n",
    "## argument has accuracy values\n",
    "plt.plot(dt_scores,color='r',label=\"LinearSVC \")\n",
    "plt.legend(loc=\"best\")\n",
    "\n",
    "plt.title(\"Accuracy accross each fold\") ## Setting subtitle of fig 1\n",
    "plt.xlabel(\"Folds\") ## Setting x-label of fig 1\n",
    "plt.ylabel(\"Accuracy\"); ## Setting y-label of fig 1"
   ]
  },
  {
   "cell_type": "code",
   "execution_count": 76,
   "id": "d0df2e55",
   "metadata": {},
   "outputs": [
    {
     "name": "stdout",
     "output_type": "stream",
     "text": [
      "Applying K fold cv algorithm for : SVC\n",
      "iter  1\n",
      "Shape of training training_columns:  (80673, 11)\n",
      "Shape of test training_columns:  (8964, 11)\n",
      "iter  2\n",
      "Shape of training training_columns:  (80673, 11)\n",
      "Shape of test training_columns:  (8964, 11)\n",
      "iter  3\n",
      "Shape of training training_columns:  (80673, 11)\n",
      "Shape of test training_columns:  (8964, 11)\n",
      "iter  4\n",
      "Shape of training training_columns:  (80673, 11)\n",
      "Shape of test training_columns:  (8964, 11)\n",
      "iter  5\n",
      "Shape of training training_columns:  (80673, 11)\n",
      "Shape of test training_columns:  (8964, 11)\n",
      "iter  6\n",
      "Shape of training training_columns:  (80673, 11)\n",
      "Shape of test training_columns:  (8964, 11)\n",
      "iter  7\n",
      "Shape of training training_columns:  (80673, 11)\n",
      "Shape of test training_columns:  (8964, 11)\n",
      "iter  8\n",
      "Shape of training training_columns:  (80674, 11)\n",
      "Shape of test training_columns:  (8963, 11)\n",
      "iter  9\n",
      "Shape of training training_columns:  (80674, 11)\n",
      "Shape of test training_columns:  (8963, 11)\n",
      "iter  10\n",
      "Shape of training training_columns:  (80674, 11)\n",
      "Shape of test training_columns:  (8963, 11)\n",
      "List of k-fold  accs for SVC:  [0.8005354752342704, 0.7989736724676484, 0.8018741633199464, 0.7916108879964302, 0.7984158857652833, 0.7955153949129853, 0.7938420348058902, 0.7991743835769274, 0.803525605266094, 0.7971661274126967]\n",
      "\n",
      "Average k-fold  acc for SVC:  0.7980633630758172\n",
      "\n",
      "Best k-fold  acc for SVC:  0.803525605266094\n",
      "roc_auc_score\n",
      "0.5\n"
     ]
    },
    {
     "data": {
      "image/png": "[encoded data removed]",
      "text/plain": [
       "<Figure size 432x288 with 1 Axes>"
      ]
     },
     "metadata": {
      "needs_background": "light"
     },
     "output_type": "display_data"
    }
   ],
   "source": [
    "from sklearn.svm import SVC\n",
    "\n",
    "\n",
    "clf = SVC(kernel='rbf') #  Model\n",
    "DT_mean_accuracy, max_acc_data_train, max_acc_data_test, max_acc_targets_train, max_acc_targets_test,dt_scores = k_fold_cross_validation(X_train[:100000], y_train[:100000], clf, \"SVC\") # cross-validation\n",
    "evaluate(max_acc_data_train, max_acc_data_test, max_acc_targets_train, max_acc_targets_test, y_train, clf) #  confusion matrix\n",
    "\n",
    "## Comparision through graphs\n",
    "\n",
    "\n",
    "## argument has accuracy values\n",
    "plt.plot(dt_scores,color='r',label=\"SVC \")\n",
    "plt.legend(loc=\"best\")\n",
    "\n",
    "plt.title(\"Accuracy accross each fold\") ## Setting subtitle of fig 1\n",
    "plt.xlabel(\"Folds\") ## Setting x-label of fig 1\n",
    "plt.ylabel(\"Accuracy\"); ## Setting y-label of fig 1"
   ]
  },
  {
   "cell_type": "markdown",
   "id": "b58f935d",
   "metadata": {},
   "source": [
    "### Reporting estimated performances. "
   ]
  },
  {
   "cell_type": "markdown",
   "id": "b62e140a",
   "metadata": {},
   "source": [
    "| Classifier | AUC score | Accuracy |\n",
    "| --- | --- | --- |\n",
    "| RF | .56 | .79 |\n",
    "| DT | .60 | .73 |\n",
    "| Linear SVC | .5 | .80 |\n",
    "| Rbf SVC | .5 | .80 |\n"
   ]
  },
  {
   "cell_type": "markdown",
   "id": "5488d3b2",
   "metadata": {},
   "source": [
    "### Should you use accuracy or AUC as a metric for this task?"
   ]
  },
  {
   "cell_type": "markdown",
   "id": "16f00bd0",
   "metadata": {},
   "source": [
    "    AUC is in fact often preferred over accuracy for binary classification. Although both metrics have intuitive interpretations. For this task AUC is prefered. The reason for this is that computing the AUC is equivalent to defining a misclassification loss function (which reflects the relative gravity of misclassifying one class over the other), and averaging it over the distribution of the scores of the points in your dataset. The problem here is that those scores are produced by the fitted model, and as such they change whenever we change the model itself, be it the type of algorithm or just the parameters/hyperparameters."
   ]
  },
  {
   "cell_type": "markdown",
   "id": "7637c254",
   "metadata": {},
   "source": [
    "## Hyper parameter tuning:"
   ]
  },
  {
   "cell_type": "code",
   "execution_count": 45,
   "id": "b944d78d",
   "metadata": {},
   "outputs": [
    {
     "name": "stdout",
     "output_type": "stream",
     "text": [
      "Best: parameters {'max_depth': None, 'max_leaf_nodes': None, 'min_impurity_decrease': 0.1}\n"
     ]
    }
   ],
   "source": [
    "\n",
    "from sklearn.tree import DecisionTreeClassifier\n",
    "from sklearn.model_selection import RepeatedStratifiedKFold\n",
    "model = DecisionTreeClassifier()\n",
    "\n",
    "min_impurity_decreases = [0.1,0.5,0.8]\n",
    "max_depths = [None, 5, 10, 15]\n",
    "max_leaf_Nodes = [None, 10,100]\n",
    "# define grid search\n",
    "from sklearn.model_selection import GridSearchCV\n",
    "grid = dict(min_impurity_decrease=min_impurity_decreases,max_depth=max_depths,max_leaf_nodes=max_leaf_Nodes)\n",
    "cv = RepeatedStratifiedKFold(n_splits=10, n_repeats=3, random_state=1)\n",
    "grid_search = GridSearchCV(estimator=model, param_grid=grid, n_jobs=-1, cv=cv)\n",
    "grid_result = grid_search.fit(X_train, y_train)\n",
    "# summarize results\n",
    "\n",
    "print(\"Best: parameters %s\" % ( grid_result.best_params_))"
   ]
  },
  {
   "cell_type": "code",
   "execution_count": 46,
   "id": "fa0b109d",
   "metadata": {},
   "outputs": [
    {
     "name": "stdout",
     "output_type": "stream",
     "text": [
      "Fitting 3 folds for each of 72 candidates, totalling 216 fits\n"
     ]
    },
    {
     "data": {
      "text/plain": [
       "{'max_depth': 80,\n",
       " 'max_features': 3,\n",
       " 'min_samples_leaf': 3,\n",
       " 'min_samples_split': 10,\n",
       " 'n_estimators': 100}"
      ]
     },
     "execution_count": 46,
     "metadata": {},
     "output_type": "execute_result"
    }
   ],
   "source": [
    "\n",
    "# Create the parameter grid based on the results of random search \n",
    "param_grid = {\n",
    "    'max_depth': [80, 90],\n",
    "    'max_features': [2, 3],\n",
    "    'min_samples_leaf': [3, 4, 5],\n",
    "    'min_samples_split': [8, 10],\n",
    "    'n_estimators': [100, 200, 300]\n",
    "}\n",
    "# Create a based model\n",
    "rf = RandomForestClassifier()\n",
    "# Instantiate the grid search model\n",
    "grid_search = GridSearchCV(estimator = rf, param_grid = param_grid, \n",
    "                          cv = 3, n_jobs = -1, verbose = 3)\n",
    "\n",
    "\n",
    "# Fit the grid search to the data\n",
    "grid_search.fit(X_train, y_train)\n",
    "grid_search.best_params_"
   ]
  },
  {
   "cell_type": "code",
   "execution_count": 36,
   "id": "fb482d65",
   "metadata": {},
   "outputs": [
    {
     "name": "stdout",
     "output_type": "stream",
     "text": [
      "Applying K fold cv algorithm for : DT\n",
      "iter  1\n",
      "Shape of training training_columns:  (80673, 11)\n",
      "Shape of test training_columns:  (8964, 11)\n",
      "iter  2\n",
      "Shape of training training_columns:  (80673, 11)\n",
      "Shape of test training_columns:  (8964, 11)\n",
      "iter  3\n",
      "Shape of training training_columns:  (80673, 11)\n",
      "Shape of test training_columns:  (8964, 11)\n",
      "iter  4\n",
      "Shape of training training_columns:  (80673, 11)\n",
      "Shape of test training_columns:  (8964, 11)\n",
      "iter  5\n",
      "Shape of training training_columns:  (80673, 11)\n",
      "Shape of test training_columns:  (8964, 11)\n",
      "iter  6\n",
      "Shape of training training_columns:  (80673, 11)\n",
      "Shape of test training_columns:  (8964, 11)\n",
      "iter  7\n",
      "Shape of training training_columns:  (80673, 11)\n",
      "Shape of test training_columns:  (8964, 11)\n",
      "iter  8\n",
      "Shape of training training_columns:  (80674, 11)\n",
      "Shape of test training_columns:  (8963, 11)\n",
      "iter  9\n",
      "Shape of training training_columns:  (80674, 11)\n",
      "Shape of test training_columns:  (8963, 11)\n",
      "iter  10\n",
      "Shape of training training_columns:  (80674, 11)\n",
      "Shape of test training_columns:  (8963, 11)\n",
      "List of k-fold  accs for DT:  [0.716421240517626, 0.7272423025435074, 0.7295850066934404, 0.7226684515841142, 0.7266845158411424, 0.7279116465863453, 0.7274654172244533, 0.7243110565658819, 0.7310052437799843, 0.727323440812228]\n",
      "\n",
      "Average k-fold  acc for DT:  0.7260618322148723\n",
      "\n",
      "Best k-fold  acc for DT:  0.7310052437799843\n",
      "roc_auc_score\n",
      "0.5931181551029315\n"
     ]
    },
    {
     "data": {
      "image/png": "[encoded data removed]",
      "text/plain": [
       "<Figure size 432x288 with 1 Axes>"
      ]
     },
     "metadata": {
      "needs_background": "light"
     },
     "output_type": "display_data"
    }
   ],
   "source": [
    "from sklearn.tree import DecisionTreeClassifier\n",
    "\n",
    "\n",
    "clf = DecisionTreeClassifier(max_depth=None, max_leaf_nodes=None, min_impurity_decrease=0.1) # DT Model\n",
    "DT_mean_accuracy, max_acc_data_train, max_acc_data_test, max_acc_targets_train, max_acc_targets_test,dt_scores = k_fold_cross_validation(X_train, y_train, clf, \"DT\") # cross-validation\n",
    "evaluate(max_acc_data_train, max_acc_data_test, max_acc_targets_train, max_acc_targets_test, y_train, clf) #  confusion matrix\n",
    "\n",
    "## Comparision through graphs\n",
    "\n",
    "\n",
    "## argument has accuracy values\n",
    "plt.plot(dt_scores,color='r',label=\"Decision Tree\")\n",
    "plt.legend(loc=\"best\")\n",
    "\n",
    "plt.title(\"Accuracy accross each fold\") ## Setting subtitle of fig 1\n",
    "plt.xlabel(\"Folds\") ## Setting x-label of fig 1\n",
    "plt.ylabel(\"Accuracy\"); ## Setting y-label of fig 1"
   ]
  },
  {
   "cell_type": "code",
   "execution_count": 37,
   "id": "65631c67",
   "metadata": {},
   "outputs": [
    {
     "name": "stdout",
     "output_type": "stream",
     "text": [
      "Applying K fold cv algorithm for : RF\n",
      "iter  1\n",
      "Shape of training training_columns:  (80673, 11)\n",
      "Shape of test training_columns:  (8964, 11)\n",
      "iter  2\n",
      "Shape of training training_columns:  (80673, 11)\n",
      "Shape of test training_columns:  (8964, 11)\n",
      "iter  3\n",
      "Shape of training training_columns:  (80673, 11)\n",
      "Shape of test training_columns:  (8964, 11)\n",
      "iter  4\n",
      "Shape of training training_columns:  (80673, 11)\n",
      "Shape of test training_columns:  (8964, 11)\n",
      "iter  5\n",
      "Shape of training training_columns:  (80673, 11)\n",
      "Shape of test training_columns:  (8964, 11)\n",
      "iter  6\n",
      "Shape of training training_columns:  (80673, 11)\n",
      "Shape of test training_columns:  (8964, 11)\n",
      "iter  7\n",
      "Shape of training training_columns:  (80673, 11)\n",
      "Shape of test training_columns:  (8964, 11)\n",
      "iter  8\n",
      "Shape of training training_columns:  (80674, 11)\n",
      "Shape of test training_columns:  (8963, 11)\n",
      "iter  9\n",
      "Shape of training training_columns:  (80674, 11)\n",
      "Shape of test training_columns:  (8963, 11)\n",
      "iter  10\n",
      "Shape of training training_columns:  (80674, 11)\n",
      "Shape of test training_columns:  (8963, 11)\n",
      "List of k-fold  accs for RF:  [0.7923917893797412, 0.7985274431057564, 0.7930611334225792, 0.7929495760821063, 0.7971887550200804, 0.7990852298081214, 0.7946229361892012, 0.7927033359366283, 0.791699207854513, 0.8041950239875042]\n",
      "\n",
      "Average k-fold  acc for RF:  0.7956424430786232\n",
      "\n",
      "Best k-fold  acc for RF:  0.8041950239875042\n",
      "roc_auc_score\n",
      "0.5642864820062545\n"
     ]
    },
    {
     "data": {
      "image/png": "[encoded data removed]",
      "text/plain": [
       "<Figure size 432x288 with 1 Axes>"
      ]
     },
     "metadata": {
      "needs_background": "light"
     },
     "output_type": "display_data"
    }
   ],
   "source": [
    "from sklearn.ensemble import RandomForestClassifier\n",
    "\n",
    "clf = RandomForestClassifier(max_depth=80,\n",
    " max_features=3,\n",
    " min_samples_leaf=3,\n",
    " min_samples_split=10,\n",
    " n_estimators=100) # DT Model\n",
    "DT_mean_accuracy, max_acc_data_train, max_acc_data_test, max_acc_targets_train, max_acc_targets_test,dt_scores = k_fold_cross_validation(X_train, y_train, clf, \"RF\") # cross-validation\n",
    "evaluate(max_acc_data_train, max_acc_data_test, max_acc_targets_train, max_acc_targets_test, y_train, clf) #  confusion matrix\n",
    "\n",
    "## Comparision through graphs\n",
    "\n",
    "\n",
    "## argument has accuracy values\n",
    "plt.plot(dt_scores,color='r',label=\"Random Forest\")\n",
    "plt.legend(loc=\"best\")\n",
    "\n",
    "plt.title(\"Accuracy accross each fold\") ## Setting subtitle of fig 1\n",
    "plt.xlabel(\"Folds\") ## Setting x-label of fig 1\n",
    "plt.ylabel(\"Accuracy\"); ## Setting y-label of fig 1"
   ]
  },
  {
   "cell_type": "markdown",
   "id": "b87d3206",
   "metadata": {},
   "source": [
    "###  Estimated performance for the tuned classifiers."
   ]
  },
  {
   "cell_type": "markdown",
   "id": "c07ee16b",
   "metadata": {},
   "source": [
    "| Classifier | AUC score | Accuracy |\n",
    "| --- | --- | --- |\n",
    "| RF | .52 | .80 |\n",
    "| DT | .5 | .80 |"
   ]
  },
  {
   "cell_type": "markdown",
   "id": "447d467a",
   "metadata": {},
   "source": [
    "## SVM:"
   ]
  },
  {
   "cell_type": "code",
   "execution_count": 38,
   "id": "9788d840",
   "metadata": {},
   "outputs": [],
   "source": [
    "class svc:\n",
    "    def __init__(self , C = 0.01 , number_of_iterations = 100 , learning_rate = 0.1):\n",
    " \n",
    "        self.c = C\n",
    "        self.iteration = number_of_iterations\n",
    "        self.lr = learning_rate\n",
    "            \n",
    "    def fit(self , x , y):\n",
    "        self.x = x\n",
    "        self.y = y\n",
    "        \n",
    "        w = np.zeros([1 , x.shape[1]])\n",
    "        b = 0\n",
    "        \n",
    "        costs = np.zeros(self.iteration)\n",
    "        for i in range(self.iteration):\n",
    "            cost = x @ w.T + b\n",
    "            b = b - self.lr * self.c * sum(cost - y) \n",
    "            w = w - self.lr * self.c * sum((cost - y)*x) \n",
    "            costs[i] = self.c * sum( (y * cost)  + (1 - y)*cost ) + (1/2)* sum(w.T**2)\n",
    "        \n",
    "        self.w = w\n",
    "        self.b = b \n",
    "        self.costs = costs\n",
    "        \n",
    "    \n",
    "    def predict(self , x_test):\n",
    "        pred_y =  []\n",
    "        svc = x_test @ self.w.T + self.b\n",
    "        for i in svc:\n",
    "            if i >= 0:\n",
    "                pred_y.append(1)\n",
    "            else:\n",
    "                pred_y.append(0)\n",
    "        \n",
    "        return pred_y"
   ]
  },
  {
   "cell_type": "code",
   "execution_count": 39,
   "id": "a398b2bc",
   "metadata": {},
   "outputs": [],
   "source": [
    "clf = svc()\n",
    "\n",
    "clf.fit(X_train.values, y_train.values.reshape([len(y_train) , 1]))"
   ]
  },
  {
   "cell_type": "code",
   "execution_count": 42,
   "id": "9ed4add8",
   "metadata": {},
   "outputs": [
    {
     "name": "stdout",
     "output_type": "stream",
     "text": [
      "Accuracy for our custom SVM is 0.79806329975345\n"
     ]
    }
   ],
   "source": [
    "preds = clf.predict(X_train.values)\n",
    "print(\"Accuracy for our custom SVM is\",accuracy_score(preds,y_train))\n"
   ]
  },
  {
   "cell_type": "markdown",
   "id": "6095957d",
   "metadata": {},
   "source": [
    "### Performance comparison"
   ]
  },
  {
   "cell_type": "markdown",
   "id": "d459230d",
   "metadata": {},
   "source": [
    "    We have very similar results for SVM implemented in sklearn and our own custome implementation.  In the case of the simple SVM we used \"linear\" kernel. However, the performance of sklearn provides rbf kernel too, which has better performance than simple linear classsifier."
   ]
  },
  {
   "cell_type": "markdown",
   "id": "8b0aea1c",
   "metadata": {},
   "source": [
    "## Training an AdaBoost classifier:"
   ]
  },
  {
   "cell_type": "code",
   "execution_count": 10,
   "id": "3c574c17",
   "metadata": {},
   "outputs": [
    {
     "name": "stdout",
     "output_type": "stream",
     "text": [
      "Applying K fold cv algorithm for : AB\n",
      "iter  1\n",
      "Shape of training training_columns:  (80673, 11)\n",
      "Shape of test training_columns:  (8964, 11)\n",
      "iter  2\n",
      "Shape of training training_columns:  (80673, 11)\n",
      "Shape of test training_columns:  (8964, 11)\n",
      "iter  3\n",
      "Shape of training training_columns:  (80673, 11)\n",
      "Shape of test training_columns:  (8964, 11)\n",
      "iter  4\n",
      "Shape of training training_columns:  (80673, 11)\n",
      "Shape of test training_columns:  (8964, 11)\n",
      "iter  5\n",
      "Shape of training training_columns:  (80673, 11)\n",
      "Shape of test training_columns:  (8964, 11)\n",
      "iter  6\n",
      "Shape of training training_columns:  (80673, 11)\n",
      "Shape of test training_columns:  (8964, 11)\n",
      "iter  7\n",
      "Shape of training training_columns:  (80673, 11)\n",
      "Shape of test training_columns:  (8964, 11)\n",
      "iter  8\n",
      "Shape of training training_columns:  (80674, 11)\n",
      "Shape of test training_columns:  (8963, 11)\n",
      "iter  9\n",
      "Shape of training training_columns:  (80674, 11)\n",
      "Shape of test training_columns:  (8963, 11)\n",
      "iter  10\n",
      "Shape of training training_columns:  (80674, 11)\n",
      "Shape of test training_columns:  (8963, 11)\n",
      "List of k-fold  accs for AB:  [0.7986390004462294, 0.7918340026773761, 0.7962962962962963, 0.7914993306559571, 0.7911646586345381, 0.7970771976796073, 0.7958500669344043, 0.7930380452973335, 0.7946000223139574, 0.7931496150842352]\n",
      "\n",
      "Average k-fold  acc for AB:  0.7943148236019935\n",
      "\n",
      "Best k-fold  acc for AB:  0.7986390004462294\n",
      "roc_auc_score\n",
      "0.5068442776322019\n"
     ]
    },
    {
     "data": {
      "image/png": "[encoded data removed]",
      "text/plain": [
       "<Figure size 432x288 with 1 Axes>"
      ]
     },
     "metadata": {
      "needs_background": "light"
     },
     "output_type": "display_data"
    }
   ],
   "source": [
    "from sklearn.ensemble import AdaBoostClassifier\n",
    "\n",
    "clf = AdaBoostClassifier() # AD Model\n",
    "DT_mean_accuracy, max_acc_data_train, max_acc_data_test, max_acc_targets_train, max_acc_targets_test,dt_scores = k_fold_cross_validation(X_train, y_train, clf, \"AB\") # cross-validation\n",
    "evaluate(max_acc_data_train, max_acc_data_test, max_acc_targets_train, max_acc_targets_test, y_train, clf) #  confusion matrix\n",
    "\n",
    "## Comparision through graphs\n",
    "\n",
    "\n",
    "\n",
    "## argument has accuracy values\n",
    "plt.plot(dt_scores,color='r',label=\" AdaBoostClassifier\")\n",
    "plt.legend(loc=\"best\")\n",
    "\n",
    "plt.title(\"Accuracy accross each fold\") ## Setting subtitle of fig 1\n",
    "plt.xlabel(\"Folds\") ## Setting x-label of fig 1\n",
    "plt.ylabel(\"Accuracy\"); ## Setting y-label of fig 1"
   ]
  },
  {
   "cell_type": "markdown",
   "id": "0019c5bb",
   "metadata": {},
   "source": [
    "## Train an XGBoost classifier:"
   ]
  },
  {
   "cell_type": "code",
   "execution_count": 16,
   "id": "e60e66c9",
   "metadata": {},
   "outputs": [
    {
     "name": "stdout",
     "output_type": "stream",
     "text": [
      "Applying K fold cv algorithm for : XGB\n",
      "iter  1\n",
      "Shape of training training_columns:  (80673, 11)\n",
      "Shape of test training_columns:  (8964, 11)\n",
      "[00:25:05] WARNING: ../src/learner.cc:1115: Starting in XGBoost 1.3.0, the default evaluation metric used with the objective 'binary:logistic' was changed from 'error' to 'logloss'. Explicitly set eval_metric if you'd like to restore the old behavior.\n",
      "iter  2\n",
      "Shape of training training_columns:  (80673, 11)\n",
      "Shape of test training_columns:  (8964, 11)\n",
      "[00:25:08] WARNING: ../src/learner.cc:1115: Starting in XGBoost 1.3.0, the default evaluation metric used with the objective 'binary:logistic' was changed from 'error' to 'logloss'. Explicitly set eval_metric if you'd like to restore the old behavior.\n",
      "iter  3\n",
      "Shape of training training_columns:  (80673, 11)\n",
      "Shape of test training_columns:  (8964, 11)\n",
      "[00:25:10] WARNING: ../src/learner.cc:1115: Starting in XGBoost 1.3.0, the default evaluation metric used with the objective 'binary:logistic' was changed from 'error' to 'logloss'. Explicitly set eval_metric if you'd like to restore the old behavior.\n",
      "iter  4\n",
      "Shape of training training_columns:  (80673, 11)\n",
      "Shape of test training_columns:  (8964, 11)\n",
      "[00:25:13] WARNING: ../src/learner.cc:1115: Starting in XGBoost 1.3.0, the default evaluation metric used with the objective 'binary:logistic' was changed from 'error' to 'logloss'. Explicitly set eval_metric if you'd like to restore the old behavior.\n",
      "iter  5\n",
      "Shape of training training_columns:  (80673, 11)\n",
      "Shape of test training_columns:  (8964, 11)\n",
      "[00:25:16] WARNING: ../src/learner.cc:1115: Starting in XGBoost 1.3.0, the default evaluation metric used with the objective 'binary:logistic' was changed from 'error' to 'logloss'. Explicitly set eval_metric if you'd like to restore the old behavior.\n",
      "iter  6\n",
      "Shape of training training_columns:  (80673, 11)\n",
      "Shape of test training_columns:  (8964, 11)\n",
      "[00:25:19] WARNING: ../src/learner.cc:1115: Starting in XGBoost 1.3.0, the default evaluation metric used with the objective 'binary:logistic' was changed from 'error' to 'logloss'. Explicitly set eval_metric if you'd like to restore the old behavior.\n",
      "iter  7\n",
      "Shape of training training_columns:  (80673, 11)\n",
      "Shape of test training_columns:  (8964, 11)\n",
      "[00:25:21] WARNING: ../src/learner.cc:1115: Starting in XGBoost 1.3.0, the default evaluation metric used with the objective 'binary:logistic' was changed from 'error' to 'logloss'. Explicitly set eval_metric if you'd like to restore the old behavior.\n",
      "iter  8\n",
      "Shape of training training_columns:  (80674, 11)\n",
      "Shape of test training_columns:  (8963, 11)\n",
      "[00:25:24] WARNING: ../src/learner.cc:1115: Starting in XGBoost 1.3.0, the default evaluation metric used with the objective 'binary:logistic' was changed from 'error' to 'logloss'. Explicitly set eval_metric if you'd like to restore the old behavior.\n",
      "iter  9\n",
      "Shape of training training_columns:  (80674, 11)\n",
      "Shape of test training_columns:  (8963, 11)\n",
      "[00:25:26] WARNING: ../src/learner.cc:1115: Starting in XGBoost 1.3.0, the default evaluation metric used with the objective 'binary:logistic' was changed from 'error' to 'logloss'. Explicitly set eval_metric if you'd like to restore the old behavior.\n",
      "iter  10\n",
      "Shape of training training_columns:  (80674, 11)\n",
      "Shape of test training_columns:  (8963, 11)\n",
      "[00:25:29] WARNING: ../src/learner.cc:1115: Starting in XGBoost 1.3.0, the default evaluation metric used with the objective 'binary:logistic' was changed from 'error' to 'logloss'. Explicitly set eval_metric if you'd like to restore the old behavior.\n",
      "List of k-fold  accs for XGB:  [0.7950691655510933, 0.8058902275769746, 0.8009817045961625, 0.7957385095939313, 0.7986390004462294, 0.7977465417224453, 0.7951807228915663, 0.7997322325114359, 0.802744616757782, 0.8113354903492135]\n",
      "\n",
      "Average k-fold  acc for XGB:  0.8003058211996835\n",
      "\n",
      "Best k-fold  acc for XGB:  0.8113354903492135\n",
      "[00:25:31] WARNING: ../src/learner.cc:1115: Starting in XGBoost 1.3.0, the default evaluation metric used with the objective 'binary:logistic' was changed from 'error' to 'logloss'. Explicitly set eval_metric if you'd like to restore the old behavior.\n",
      "roc_auc_score\n",
      "0.5331708403721621\n"
     ]
    },
    {
     "data": {
      "image/png": "[encoded data removed]",
      "text/plain": [
       "<Figure size 432x288 with 1 Axes>"
      ]
     },
     "metadata": {
      "needs_background": "light"
     },
     "output_type": "display_data"
    }
   ],
   "source": [
    "import xgboost as xgb\n",
    "\n",
    "\n",
    "clf = xgb.XGBClassifier() # AD Model\n",
    "clf_mean_accuracy, max_acc_data_train, max_acc_data_test, max_acc_targets_train, max_acc_targets_test,clf_scores = k_fold_cross_validation(X_train, y_train, clf, \"XGB\") # cross-validation\n",
    "evaluate(max_acc_data_train, max_acc_data_test, max_acc_targets_train, max_acc_targets_test, y_train, clf) #  confusion matrix\n",
    "\n",
    "## Comparision through graphs\n",
    "\n",
    "\n",
    "\n",
    "## argument has accuracy values\n",
    "plt.plot(clf_scores,color='r',label=\" XGBClassifier\")\n",
    "plt.legend(loc=\"best\")\n",
    "\n",
    "plt.title(\"Accuracy accross each fold\") ## Setting subtitle of fig 1\n",
    "plt.xlabel(\"Folds\") ## Setting x-label of fig 1\n",
    "plt.ylabel(\"Accuracy\"); ## Setting y-label of fig 1"
   ]
  },
  {
   "cell_type": "markdown",
   "id": "cb26c38a",
   "metadata": {},
   "source": [
    "## Blending Model:"
   ]
  },
  {
   "cell_type": "code",
   "execution_count": 28,
   "id": "20258d90",
   "metadata": {},
   "outputs": [],
   "source": [
    "\n",
    "from numpy import hstack\n",
    "from sklearn.linear_model import LogisticRegression\n",
    "from sklearn.ensemble import RandomForestClassifier\n",
    "\n",
    "\n",
    "def get_classifiers():\n",
    "    \"\"\"Function to add the classifiers that we want to keep in our blending model\"\"\"\n",
    "    classifiers = []\n",
    "    classifiers.append(('lr', LogisticRegression()))\n",
    "    classifiers.append(('xgb', xgb.XGBClassifier()))\n",
    "    classifiers.append(('cart', DecisionTreeClassifier()))\n",
    "    classifiers.append(('Adb', AdaBoostClassifier()))\n",
    "    classifiers.append(('Rf', RandomForestClassifier()))\n",
    "    return classifiers\n",
    "\n",
    "def fit_blending_model(classifiers, X_train_full, y_train_full):\n",
    "    \"\"\"\n",
    "    This function will perform the following steps\n",
    "    \n",
    "    \n",
    "    1 Creates a validation set using 20% of the training set\n",
    "    2 Trains each of your chosen classifiers on the training set\n",
    "    3 Using the validation set creates a new dataset where features are predictions made by each of your chosen classifiers\n",
    "    4 Trains a logistic regression classifier to blend the predictions\n",
    "\n",
    "\n",
    "    \"\"\"\n",
    "    \n",
    "    # split training set into train and validation sets\n",
    "    X_train, X_val, y_train, y_val = train_test_split(X_train_full, y_train_full, test_size=0.2, random_state=1)\n",
    "\n",
    "\n",
    "    # fit all classifiers on the training set and predict on hold out set\n",
    "    new_features = list()\n",
    "    for name, model in classifiers:\n",
    "        # fit in training set\n",
    "        model.fit(X_train, y_train)\n",
    "        # predict on hold out set\n",
    "        y_preds = model.predict(X_val)\n",
    "        # reshape predictions into a matrix with one column\n",
    "        y_preds = y_preds.reshape(len(y_preds), 1)\n",
    "        # store predictions as input for blending\n",
    "        new_features.append(y_preds)\n",
    "    # create 2d array from predictions, each set is an input feature\n",
    "    new_features = hstack(new_features)\n",
    "    # define blending model\n",
    "    clf_blender = LogisticRegression()\n",
    "    # fit on predictions from base classifiers\n",
    "    clf_blender.fit(new_features, y_val)\n",
    "    return clf_blender\n",
    "\n",
    "def prediction_using_blending(classifiers, clf_blender, X_test):\n",
    "    # make predictions with base classifiers\n",
    "    new_features = list()\n",
    "    for name, model in classifiers:\n",
    "        # predict with base clf\n",
    "        y_preds = model.predict(X_test)\n",
    "        y_preds = y_preds.reshape(len(y_preds), 1)\n",
    "        new_features.append(y_preds)\n",
    "    new_features = hstack(new_features)\n",
    "    # predict\n",
    "    return clf_blender.predict(new_features)\n"
   ]
  },
  {
   "cell_type": "code",
   "execution_count": 31,
   "id": "3b151b55",
   "metadata": {},
   "outputs": [
    {
     "name": "stdout",
     "output_type": "stream",
     "text": [
      "[00:48:17] WARNING: ../src/learner.cc:1115: Starting in XGBoost 1.3.0, the default evaluation metric used with the objective 'binary:logistic' was changed from 'error' to 'logloss'. Explicitly set eval_metric if you'd like to restore the old behavior.\n",
      "Blending AUC score: 51.832\n",
      "Blending Accuracy: 80.373\n"
     ]
    }
   ],
   "source": [
    "# split dataset into train and test sets\n",
    "X_train_full, X_test, y_train_full, y_test = train_test_split(X_train, y_train, test_size=0.3, random_state=1)\n",
    "# create the base classifiers\n",
    "classifiers = get_classifiers()\n",
    "# train the blending ensemble\n",
    "clf_blender = fit_blending_model(classifiers, X_train_full, y_train_full)\n",
    "# make predictions on test set\n",
    "y_preds = prediction_using_blending(classifiers, clf_blender, X_test)\n",
    "# evaluate predictions\n",
    "score = roc_auc_score(y_test, y_preds)\n",
    "acc = accuracy_score(y_test, y_preds)\n",
    "\n",
    "print('Blending AUC score: %.3f' % (score*100))\n",
    "print('Blending Accuracy: %.3f' % (acc*100))"
   ]
  },
  {
   "cell_type": "markdown",
   "id": "ab9b53ad",
   "metadata": {},
   "source": [
    "## Key Findings:\n",
    "    \n",
    "    \n",
    "    * Most of our numeric columns have binary values in them i.e 1 or 0. Except for age column.    \n",
    "    * Our age variable has some erroreneous entries in it. It has some outliers present in it, which \n",
    "          are being checked and removed by looking at their standard deviation from the mean value.\n",
    "    * Missing values in numeric columns are replaced by median and then standardization was \n",
    "          applied on them.\n",
    "    * According to the model's predictions, most of the patients show up on the appointment date.\n",
    "    * Person with some disbailities miss some of the appointments.\n",
    "    * The data set is linearly seperable, which means a linear clsssifer can easily predict the boundaries of both classes.\n",
    "    * Random Forest outperforms other algorithm in most of the cases.\n",
    "    * AUC - ROC curve is a performance measurement for the classification problems at various threshold settings. ROC is a probability curve and AUC represents the degree or measure of separability. It tells how much the model is capable of distinguishing between classes. The data set is imabalanced, so the models are biased towards the class that has more number of rows.\n",
    "    * Ensemble model reduces the spread or dispersion of the predictions and model performance is better than any single contributing model. \n",
    "    * The following table is giving comparison of all models used :\n",
    "    \n",
    "    "
   ]
  },
  {
   "cell_type": "markdown",
   "id": "a806cb90",
   "metadata": {},
   "source": [
    "| Classifier | AUC score | Accuracy |\n",
    "    | --- | --- | --- |\n",
    "    | RF | .5 | .79 |\n",
    "    | DT | .51 | .73 |\n",
    "    | Linear SVC | .5 | .80 |\n",
    "    | Rbf SVC | .5 | .80 |\n",
    "    | RF (With tuned parameters) | .56 | .79 |\n",
    "    | DT (With tuned parameters) | .60 | .73 |\n",
    "    | AdaBoost | .50 | .79 |\n",
    "    | XGboost | .53 | .81 |\n",
    "    | Blending | .51 | .80 |\n",
    "    "
   ]
  }
 ],
 "metadata": {
  "kernelspec": {
   "display_name": "Python 3",
   "language": "python",
   "name": "python3"
  },
  "language_info": {
   "codemirror_mode": {
    "name": "ipython",
    "version": 3
   },
   "file_extension": ".py",
   "mimetype": "text/x-python",
   "name": "python",
   "nbconvert_exporter": "python",
   "pygments_lexer": "ipython3",
   "version": "3.8.8"
  }
 },
 "nbformat": 4,
 "nbformat_minor": 5
}
