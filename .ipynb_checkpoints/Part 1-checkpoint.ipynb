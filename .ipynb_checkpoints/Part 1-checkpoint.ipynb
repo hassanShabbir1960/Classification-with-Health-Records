{
 "cells": [
  {
   "cell_type": "markdown",
   "id": "a9203828",
   "metadata": {},
   "source": [
    "## Reading the data:\n",
    "    For reading the data, we are using pandas, it will read the data from the data directory and load it into a dataframe."
   ]
  },
  {
   "cell_type": "code",
   "execution_count": 1,
   "id": "d51d9ad8",
   "metadata": {},
   "outputs": [
    {
     "data": {
      "text/html": [
       "<div>\n",
       "<style scoped>\n",
       "    .dataframe tbody tr th:only-of-type {\n",
       "        vertical-align: middle;\n",
       "    }\n",
       "\n",
       "    .dataframe tbody tr th {\n",
       "        vertical-align: top;\n",
       "    }\n",
       "\n",
       "    .dataframe thead th {\n",
       "        text-align: right;\n",
       "    }\n",
       "</style>\n",
       "<table border=\"1\" class=\"dataframe\">\n",
       "  <thead>\n",
       "    <tr style=\"text-align: right;\">\n",
       "      <th></th>\n",
       "      <th>PatientId</th>\n",
       "      <th>AppointmentID</th>\n",
       "      <th>Gender</th>\n",
       "      <th>ScheduledDay</th>\n",
       "      <th>AppointmentDay</th>\n",
       "      <th>Age</th>\n",
       "      <th>Neighbourhood</th>\n",
       "      <th>Scholarship</th>\n",
       "      <th>Hipertension</th>\n",
       "      <th>Diabetes</th>\n",
       "      <th>Alcoholism</th>\n",
       "      <th>Handcap</th>\n",
       "      <th>SMS_received</th>\n",
       "      <th>No-show</th>\n",
       "    </tr>\n",
       "  </thead>\n",
       "  <tbody>\n",
       "    <tr>\n",
       "      <th>0</th>\n",
       "      <td>2.987250e+13</td>\n",
       "      <td>5642903</td>\n",
       "      <td>F</td>\n",
       "      <td>2016-04-29T18:38:08Z</td>\n",
       "      <td>2016-04-29T00:00:00Z</td>\n",
       "      <td>62</td>\n",
       "      <td>JARDIM DA PENHA</td>\n",
       "      <td>0</td>\n",
       "      <td>1</td>\n",
       "      <td>0</td>\n",
       "      <td>0</td>\n",
       "      <td>0</td>\n",
       "      <td>0</td>\n",
       "      <td>No</td>\n",
       "    </tr>\n",
       "    <tr>\n",
       "      <th>1</th>\n",
       "      <td>5.589978e+14</td>\n",
       "      <td>5642503</td>\n",
       "      <td>M</td>\n",
       "      <td>2016-04-29T16:08:27Z</td>\n",
       "      <td>2016-04-29T00:00:00Z</td>\n",
       "      <td>56</td>\n",
       "      <td>JARDIM DA PENHA</td>\n",
       "      <td>0</td>\n",
       "      <td>0</td>\n",
       "      <td>0</td>\n",
       "      <td>0</td>\n",
       "      <td>0</td>\n",
       "      <td>0</td>\n",
       "      <td>No</td>\n",
       "    </tr>\n",
       "    <tr>\n",
       "      <th>2</th>\n",
       "      <td>4.262962e+12</td>\n",
       "      <td>5642549</td>\n",
       "      <td>F</td>\n",
       "      <td>2016-04-29T16:19:04Z</td>\n",
       "      <td>2016-04-29T00:00:00Z</td>\n",
       "      <td>62</td>\n",
       "      <td>MATA DA PRAIA</td>\n",
       "      <td>0</td>\n",
       "      <td>0</td>\n",
       "      <td>0</td>\n",
       "      <td>0</td>\n",
       "      <td>0</td>\n",
       "      <td>0</td>\n",
       "      <td>No</td>\n",
       "    </tr>\n",
       "    <tr>\n",
       "      <th>3</th>\n",
       "      <td>8.679512e+11</td>\n",
       "      <td>5642828</td>\n",
       "      <td>F</td>\n",
       "      <td>2016-04-29T17:29:31Z</td>\n",
       "      <td>2016-04-29T00:00:00Z</td>\n",
       "      <td>8</td>\n",
       "      <td>PONTAL DE CAMBURI</td>\n",
       "      <td>0</td>\n",
       "      <td>0</td>\n",
       "      <td>0</td>\n",
       "      <td>0</td>\n",
       "      <td>0</td>\n",
       "      <td>0</td>\n",
       "      <td>No</td>\n",
       "    </tr>\n",
       "    <tr>\n",
       "      <th>4</th>\n",
       "      <td>8.841186e+12</td>\n",
       "      <td>5642494</td>\n",
       "      <td>F</td>\n",
       "      <td>2016-04-29T16:07:23Z</td>\n",
       "      <td>2016-04-29T00:00:00Z</td>\n",
       "      <td>56</td>\n",
       "      <td>JARDIM DA PENHA</td>\n",
       "      <td>0</td>\n",
       "      <td>1</td>\n",
       "      <td>1</td>\n",
       "      <td>0</td>\n",
       "      <td>0</td>\n",
       "      <td>0</td>\n",
       "      <td>No</td>\n",
       "    </tr>\n",
       "  </tbody>\n",
       "</table>\n",
       "</div>"
      ],
      "text/plain": [
       "      PatientId  AppointmentID Gender          ScheduledDay  \\\n",
       "0  2.987250e+13        5642903      F  2016-04-29T18:38:08Z   \n",
       "1  5.589978e+14        5642503      M  2016-04-29T16:08:27Z   \n",
       "2  4.262962e+12        5642549      F  2016-04-29T16:19:04Z   \n",
       "3  8.679512e+11        5642828      F  2016-04-29T17:29:31Z   \n",
       "4  8.841186e+12        5642494      F  2016-04-29T16:07:23Z   \n",
       "\n",
       "         AppointmentDay  Age      Neighbourhood  Scholarship  Hipertension  \\\n",
       "0  2016-04-29T00:00:00Z   62    JARDIM DA PENHA            0             1   \n",
       "1  2016-04-29T00:00:00Z   56    JARDIM DA PENHA            0             0   \n",
       "2  2016-04-29T00:00:00Z   62      MATA DA PRAIA            0             0   \n",
       "3  2016-04-29T00:00:00Z    8  PONTAL DE CAMBURI            0             0   \n",
       "4  2016-04-29T00:00:00Z   56    JARDIM DA PENHA            0             1   \n",
       "\n",
       "   Diabetes  Alcoholism  Handcap  SMS_received No-show  \n",
       "0         0           0        0             0      No  \n",
       "1         0           0        0             0      No  \n",
       "2         0           0        0             0      No  \n",
       "3         0           0        0             0      No  \n",
       "4         1           0        0             0      No  "
      ]
     },
     "execution_count": 1,
     "metadata": {},
     "output_type": "execute_result"
    }
   ],
   "source": [
    "import pandas as pd\n",
    "import numpy as np\n",
    "\n",
    "import warnings\n",
    "warnings.filterwarnings('ignore')\n",
    "df = pd.read_csv(\"data/KaggleV2-May-2016.csv\")\n",
    "df.head()"
   ]
  },
  {
   "cell_type": "markdown",
   "id": "ca1f8fa4",
   "metadata": {},
   "source": [
    "## Remove records with erroneous entries :\n",
    "\n",
    "    Missing data reduce the representativeness of the sample and can therefore distort inferences about the population. So we will check if our data set has any missing values in it."
   ]
  },
  {
   "cell_type": "code",
   "execution_count": 167,
   "id": "a0739560",
   "metadata": {},
   "outputs": [],
   "source": [
    "def get_percentage_missing(series):\n",
    "    \"\"\" Calculates percentage of NaN values in DataFrame\n",
    "    :param series: Pandas DataFrame object\n",
    "    :return: float\n",
    "    \"\"\"\n",
    "    num = series.isnull().sum()\n",
    "    den = len(series)\n",
    "    return round(num/den, 2)"
   ]
  },
  {
   "cell_type": "code",
   "execution_count": 168,
   "id": "a05e2141",
   "metadata": {},
   "outputs": [
    {
     "data": {
      "text/plain": [
       "PatientId         0.0\n",
       "AppointmentID     0.0\n",
       "Gender            0.0\n",
       "ScheduledDay      0.0\n",
       "AppointmentDay    0.0\n",
       "Age               0.0\n",
       "Neighbourhood     0.0\n",
       "Scholarship       0.0\n",
       "Hipertension      0.0\n",
       "Diabetes          0.0\n",
       "Alcoholism        0.0\n",
       "Handcap           0.0\n",
       "SMS_received      0.0\n",
       "No-show           0.0\n",
       "dtype: float64"
      ]
     },
     "execution_count": 168,
     "metadata": {},
     "output_type": "execute_result"
    }
   ],
   "source": [
    "get_percentage_missing(df)"
   ]
  },
  {
   "cell_type": "code",
   "execution_count": 169,
   "id": "17dd87fe",
   "metadata": {},
   "outputs": [
    {
     "data": {
      "image/png": "[encoded data removed]",
      "text/plain": [
       "<Figure size 1080x720 with 9 Axes>"
      ]
     },
     "metadata": {
      "needs_background": "light"
     },
     "output_type": "display_data"
    }
   ],
   "source": [
    "\n",
    "## Plotting all the numeric columns to get an idea of their data distribution\n",
    "\n",
    "import matplotlib.pyplot as plt\n",
    "df.hist(layout=(3,3), figsize=(15,10))\n",
    "\n",
    "plt.show()"
   ]
  },
  {
   "cell_type": "code",
   "execution_count": 170,
   "id": "028ab6aa",
   "metadata": {},
   "outputs": [
    {
     "name": "stdout",
     "output_type": "stream",
     "text": [
      "Columns excluded : PatientId & AppointmentID\n"
     ]
    }
   ],
   "source": [
    "## We will not be considering PatientID and Appointment ID in our training columns. Because our data samples are \n",
    "## independent and identically distributed so we can remove the sample IDs. It is given that all samples come \n",
    "## from or refer to the same source/object and they don't somehow identify the sample class.\n",
    "\n",
    "df.pop('PatientId')\n",
    "df.pop('AppointmentID')\n",
    "\n",
    "print(\"Columns excluded : PatientId & AppointmentID\")"
   ]
  },
  {
   "cell_type": "code",
   "execution_count": 171,
   "id": "5159b500",
   "metadata": {},
   "outputs": [],
   "source": [
    "## By looking at the distributions above, we saw that age variable has some erroneous entries in it, so we will\n",
    "## settle them first.\n",
    "\n",
    "## We know that age of a person cannot be less than zero or greater than a certain amount, so we will replace all\n",
    "##these erroneous entries with NaN, later on we will replace them in our pipeline.\n",
    "\n",
    "df['Age'] = df['Age'].mask(df['Age'].sub(df['Age'].mean()).div(df['Age'].std()).abs().gt(2))"
   ]
  },
  {
   "cell_type": "markdown",
   "id": "41184b99",
   "metadata": {},
   "source": [
    "## Seperating training and test data:"
   ]
  },
  {
   "cell_type": "code",
   "execution_count": 172,
   "id": "37ba5d86",
   "metadata": {},
   "outputs": [],
   "source": [
    "## Using stratified sampling on the No-show variable to ensure test set and training set class proportions \n",
    "## are the same\n",
    "\n",
    "\n",
    "from sklearn.model_selection import StratifiedShuffleSplit\n",
    "\n",
    "split = StratifiedShuffleSplit(n_splits=1, test_size=0.189, random_state=1234)\n",
    "for train_index, test_index in split.split(df, df[\"No-show\"]):\n",
    "    train_set = df.loc[train_index]\n",
    "    test_set = df.loc[test_index]"
   ]
  },
  {
   "cell_type": "code",
   "execution_count": 173,
   "id": "99f90470",
   "metadata": {},
   "outputs": [],
   "source": [
    "## Saving the train and test sets as csv files in the processed_data directory\n",
    "\n",
    "train_set.to_csv(\"./processed_data/Trainingdata.csv\",index=False)\n",
    "test_set.to_csv(\"./processed_data/Testdata.csv\",index=False)\n"
   ]
  },
  {
   "cell_type": "code",
   "execution_count": 174,
   "id": "56b91a8d",
   "metadata": {},
   "outputs": [],
   "source": [
    "## Seperating the independent and dependent variables\n",
    "X=train_set.loc[:, train_set.columns != 'No-show'] # It will contains all columns except our target column\n",
    "Y=train_set.loc[:, train_set.columns == 'No-show'] #It will contain target column"
   ]
  },
  {
   "cell_type": "markdown",
   "id": "64467150",
   "metadata": {},
   "source": [
    "## Plot the No-show variable against the other variables in the dataset:"
   ]
  },
  {
   "cell_type": "code",
   "execution_count": 175,
   "id": "4a06bd22",
   "metadata": {},
   "outputs": [],
   "source": [
    "#numerical features\n",
    "num_cols = X.select_dtypes([int, float]).columns\n",
    "\n",
    "## Converting target categorical column to numeric column\n",
    "\n",
    "from sklearn.preprocessing import LabelEncoder\n",
    "y_converted = LabelEncoder().fit_transform(np.ravel(Y))"
   ]
  },
  {
   "cell_type": "code",
   "execution_count": 176,
   "id": "d186ed50",
   "metadata": {
    "scrolled": false
   },
   "outputs": [
    {
     "data": {
      "image/png": "[encoded data removed]",
      "text/plain": [
       "<Figure size 432x288 with 1 Axes>"
      ]
     },
     "metadata": {
      "needs_background": "light"
     },
     "output_type": "display_data"
    },
    {
     "data": {
      "image/png": "[encoded data removed]",
      "text/plain": [
       "<Figure size 432x288 with 1 Axes>"
      ]
     },
     "metadata": {
      "needs_background": "light"
     },
     "output_type": "display_data"
    },
    {
     "data": {
      "image/png": "[encoded data removed]",
      "text/plain": [
       "<Figure size 432x288 with 1 Axes>"
      ]
     },
     "metadata": {
      "needs_background": "light"
     },
     "output_type": "display_data"
    },
    {
     "data": {
      "image/png": "[encoded data removed]",
      "text/plain": [
       "<Figure size 432x288 with 1 Axes>"
      ]
     },
     "metadata": {
      "needs_background": "light"
     },
     "output_type": "display_data"
    },
    {
     "data": {
      "image/png": "[encoded data removed]",
      "text/plain": [
       "<Figure size 432x288 with 1 Axes>"
      ]
     },
     "metadata": {
      "needs_background": "light"
     },
     "output_type": "display_data"
    },
    {
     "data": {
      "image/png": "[encoded data removed]",
      "text/plain": [
       "<Figure size 432x288 with 1 Axes>"
      ]
     },
     "metadata": {
      "needs_background": "light"
     },
     "output_type": "display_data"
    },
    {
     "data": {
      "image/png": "[encoded data removed]",
      "text/plain": [
       "<Figure size 432x288 with 1 Axes>"
      ]
     },
     "metadata": {
      "needs_background": "light"
     },
     "output_type": "display_data"
    }
   ],
   "source": [
    "for i in num_cols:\n",
    "    plt.plot(X[i],y_converted)\n",
    "    plt.title(i+\"Vs No-show \")\n",
    "    plt.xlabel(i+\"\")\n",
    "    plt.ylabel(\"No-show\")\n",
    "    plt.show()"
   ]
  },
  {
   "cell_type": "code",
   "execution_count": 101,
   "id": "b0e0c667",
   "metadata": {},
   "outputs": [
    {
     "name": "stdout",
     "output_type": "stream",
     "text": [
      "Requirement already satisfied: sklearn_pipeline_utils in /home/hassan/anaconda3/lib/python3.8/site-packages (0.11)\n",
      "Collecting sklearn_pandas\n",
      "  Downloading sklearn_pandas-2.2.0-py2.py3-none-any.whl (10 kB)\n",
      "Collecting scipy>=1.5.1\n",
      "  Downloading scipy-1.7.1-cp38-cp38-manylinux_2_5_x86_64.manylinux1_x86_64.whl (28.4 MB)\n",
      "\u001b[K     |████████████████████████████████| 28.4 MB 667 kB/s eta 0:00:01\n",
      "\u001b[?25hRequirement already satisfied: numpy>=1.18.1 in /home/hassan/anaconda3/lib/python3.8/site-packages (from sklearn_pandas) (1.19.5)\n",
      "Requirement already satisfied: scikit-learn>=0.23.0 in /home/hassan/anaconda3/lib/python3.8/site-packages (from sklearn_pandas) (0.24.1)\n",
      "Requirement already satisfied: pandas>=1.1.4 in /home/hassan/anaconda3/lib/python3.8/site-packages (from sklearn_pandas) (1.2.4)\n",
      "Requirement already satisfied: python-dateutil>=2.7.3 in /home/hassan/anaconda3/lib/python3.8/site-packages (from pandas>=1.1.4->sklearn_pandas) (2.8.1)\n",
      "Requirement already satisfied: pytz>=2017.3 in /home/hassan/anaconda3/lib/python3.8/site-packages (from pandas>=1.1.4->sklearn_pandas) (2021.1)\n",
      "Requirement already satisfied: six>=1.5 in /home/hassan/anaconda3/lib/python3.8/site-packages (from python-dateutil>=2.7.3->pandas>=1.1.4->sklearn_pandas) (1.15.0)\n",
      "Requirement already satisfied: threadpoolctl>=2.0.0 in /home/hassan/anaconda3/lib/python3.8/site-packages (from scikit-learn>=0.23.0->sklearn_pandas) (2.1.0)\n",
      "Requirement already satisfied: joblib>=0.11 in /home/hassan/anaconda3/lib/python3.8/site-packages (from scikit-learn>=0.23.0->sklearn_pandas) (1.0.1)\n",
      "Installing collected packages: scipy, sklearn-pandas\n",
      "  Attempting uninstall: scipy\n",
      "    Found existing installation: scipy 1.4.1\n",
      "    Uninstalling scipy-1.4.1:\n",
      "      Successfully uninstalled scipy-1.4.1\n",
      "Successfully installed scipy-1.7.1 sklearn-pandas-2.2.0\n"
     ]
    }
   ],
   "source": [
    "!pip install sklearn_pipeline_utils\n",
    "!pip install sklearn_pandas"
   ]
  },
  {
   "cell_type": "markdown",
   "id": "c991f7ac",
   "metadata": {},
   "source": [
    "## Creating a preprocessing pipeline:"
   ]
  },
  {
   "cell_type": "code",
   "execution_count": 177,
   "id": "d24cbb35",
   "metadata": {},
   "outputs": [],
   "source": [
    "import numpy as np\n",
    "from sklearn.pipeline import Pipeline, make_pipeline\n",
    "\n",
    "from sklearn.preprocessing import FunctionTransformer\n",
    "from sklearn.base import BaseEstimator, TransformerMixin\n",
    "from sklearn_pandas import DataFrameMapper\n",
    "\n",
    "class CustomImputer(BaseEstimator, TransformerMixin):\n",
    "    def __init__(self, method='mean', to_fill_with='NA'):\n",
    "        self.method = method\n",
    "        self.fill = to_fill_with\n",
    "\n",
    "    def fit(self, X, y=None):\n",
    "        if self.method in ['mean', 'median']:\n",
    "            if not all([dtype in [np.number, np.int] for dtype in X.dtypes]):\n",
    "                raise ValueError('Only mean median and mode method is supported')\n",
    "        if self.method == 'mean':\n",
    "            self.fill = X.mean()\n",
    "        elif self.method == 'median':\n",
    "            self.fill = X.median()\n",
    "        elif self.method == 'mode':\n",
    "            self.fill = X.mode().iloc[0]\n",
    "        elif self.method == 'fill':\n",
    "            if type(self.fill) is list and type(X) is pd.DataFrame:\n",
    "                self.fill = dict([(cname, v) for cname, v in zip(X.columns, self.fill)])\n",
    "        return self\n",
    "\n",
    "    def transform(self, X, y=None):\n",
    "        return X.fillna(self.fill)"
   ]
  },
  {
   "cell_type": "code",
   "execution_count": 181,
   "id": "8ab19ff0",
   "metadata": {},
   "outputs": [],
   "source": [
    "## Making our own pipeline for numerical data\n",
    "\n",
    "numerical_data_pipeline = DataFrameMapper(\n",
    "        [(X.select_dtypes([int, float]).columns,\n",
    "        CustomImputer(method='median'), {'alias': 'numerical_data'}\n",
    "        )    \n",
    "        ],input_df=True ,df_out=True)\n",
    "\n",
    "\n",
    "\n",
    "from sklearn.preprocessing import StandardScaler\n",
    "from sklearn.preprocessing import MinMaxScaler\n",
    "\n",
    "scaled_numerical_pipeline = make_pipeline(\n",
    "    numerical_data_pipeline,\n",
    "    StandardScaler(),\n",
    "    MinMaxScaler()\n",
    ")\n",
    "\n"
   ]
  },
  {
   "cell_type": "code",
   "execution_count": 184,
   "id": "a85efc21",
   "metadata": {},
   "outputs": [
    {
     "data": {
      "text/html": [
       "<div>\n",
       "<style scoped>\n",
       "    .dataframe tbody tr th:only-of-type {\n",
       "        vertical-align: middle;\n",
       "    }\n",
       "\n",
       "    .dataframe tbody tr th {\n",
       "        vertical-align: top;\n",
       "    }\n",
       "\n",
       "    .dataframe thead th {\n",
       "        text-align: right;\n",
       "    }\n",
       "</style>\n",
       "<table border=\"1\" class=\"dataframe\">\n",
       "  <thead>\n",
       "    <tr style=\"text-align: right;\">\n",
       "      <th></th>\n",
       "      <th>numerical_data_0</th>\n",
       "      <th>numerical_data_1</th>\n",
       "      <th>numerical_data_2</th>\n",
       "      <th>numerical_data_3</th>\n",
       "      <th>numerical_data_4</th>\n",
       "      <th>numerical_data_5</th>\n",
       "      <th>numerical_data_6</th>\n",
       "    </tr>\n",
       "  </thead>\n",
       "  <tbody>\n",
       "    <tr>\n",
       "      <th>64781</th>\n",
       "      <td>35.0</td>\n",
       "      <td>0</td>\n",
       "      <td>0</td>\n",
       "      <td>0</td>\n",
       "      <td>0</td>\n",
       "      <td>0</td>\n",
       "      <td>1</td>\n",
       "    </tr>\n",
       "    <tr>\n",
       "      <th>33727</th>\n",
       "      <td>52.0</td>\n",
       "      <td>1</td>\n",
       "      <td>0</td>\n",
       "      <td>0</td>\n",
       "      <td>0</td>\n",
       "      <td>0</td>\n",
       "      <td>0</td>\n",
       "    </tr>\n",
       "    <tr>\n",
       "      <th>13711</th>\n",
       "      <td>12.0</td>\n",
       "      <td>0</td>\n",
       "      <td>0</td>\n",
       "      <td>0</td>\n",
       "      <td>0</td>\n",
       "      <td>0</td>\n",
       "      <td>0</td>\n",
       "    </tr>\n",
       "    <tr>\n",
       "      <th>104875</th>\n",
       "      <td>50.0</td>\n",
       "      <td>0</td>\n",
       "      <td>0</td>\n",
       "      <td>0</td>\n",
       "      <td>0</td>\n",
       "      <td>0</td>\n",
       "      <td>0</td>\n",
       "    </tr>\n",
       "    <tr>\n",
       "      <th>51299</th>\n",
       "      <td>17.0</td>\n",
       "      <td>0</td>\n",
       "      <td>0</td>\n",
       "      <td>0</td>\n",
       "      <td>0</td>\n",
       "      <td>0</td>\n",
       "      <td>1</td>\n",
       "    </tr>\n",
       "    <tr>\n",
       "      <th>...</th>\n",
       "      <td>...</td>\n",
       "      <td>...</td>\n",
       "      <td>...</td>\n",
       "      <td>...</td>\n",
       "      <td>...</td>\n",
       "      <td>...</td>\n",
       "      <td>...</td>\n",
       "    </tr>\n",
       "    <tr>\n",
       "      <th>94003</th>\n",
       "      <td>0.0</td>\n",
       "      <td>0</td>\n",
       "      <td>0</td>\n",
       "      <td>0</td>\n",
       "      <td>0</td>\n",
       "      <td>0</td>\n",
       "      <td>0</td>\n",
       "    </tr>\n",
       "    <tr>\n",
       "      <th>20314</th>\n",
       "      <td>18.0</td>\n",
       "      <td>0</td>\n",
       "      <td>0</td>\n",
       "      <td>0</td>\n",
       "      <td>0</td>\n",
       "      <td>0</td>\n",
       "      <td>0</td>\n",
       "    </tr>\n",
       "    <tr>\n",
       "      <th>83679</th>\n",
       "      <td>71.0</td>\n",
       "      <td>0</td>\n",
       "      <td>0</td>\n",
       "      <td>1</td>\n",
       "      <td>0</td>\n",
       "      <td>0</td>\n",
       "      <td>0</td>\n",
       "    </tr>\n",
       "    <tr>\n",
       "      <th>50014</th>\n",
       "      <td>36.0</td>\n",
       "      <td>0</td>\n",
       "      <td>0</td>\n",
       "      <td>0</td>\n",
       "      <td>0</td>\n",
       "      <td>0</td>\n",
       "      <td>0</td>\n",
       "    </tr>\n",
       "    <tr>\n",
       "      <th>10278</th>\n",
       "      <td>30.0</td>\n",
       "      <td>0</td>\n",
       "      <td>0</td>\n",
       "      <td>0</td>\n",
       "      <td>0</td>\n",
       "      <td>0</td>\n",
       "      <td>0</td>\n",
       "    </tr>\n",
       "  </tbody>\n",
       "</table>\n",
       "<p>89637 rows × 7 columns</p>\n",
       "</div>"
      ],
      "text/plain": [
       "        numerical_data_0  numerical_data_1  numerical_data_2  \\\n",
       "64781               35.0                 0                 0   \n",
       "33727               52.0                 1                 0   \n",
       "13711               12.0                 0                 0   \n",
       "104875              50.0                 0                 0   \n",
       "51299               17.0                 0                 0   \n",
       "...                  ...               ...               ...   \n",
       "94003                0.0                 0                 0   \n",
       "20314               18.0                 0                 0   \n",
       "83679               71.0                 0                 0   \n",
       "50014               36.0                 0                 0   \n",
       "10278               30.0                 0                 0   \n",
       "\n",
       "        numerical_data_3  numerical_data_4  numerical_data_5  numerical_data_6  \n",
       "64781                  0                 0                 0                 1  \n",
       "33727                  0                 0                 0                 0  \n",
       "13711                  0                 0                 0                 0  \n",
       "104875                 0                 0                 0                 0  \n",
       "51299                  0                 0                 0                 1  \n",
       "...                  ...               ...               ...               ...  \n",
       "94003                  0                 0                 0                 0  \n",
       "20314                  0                 0                 0                 0  \n",
       "83679                  1                 0                 0                 0  \n",
       "50014                  0                 0                 0                 0  \n",
       "10278                  0                 0                 0                 0  \n",
       "\n",
       "[89637 rows x 7 columns]"
      ]
     },
     "execution_count": 184,
     "metadata": {},
     "output_type": "execute_result"
    }
   ],
   "source": [
    "numerical_data_pipeline.fit_transform(X)"
   ]
  },
  {
   "cell_type": "code",
   "execution_count": 185,
   "id": "87d44746",
   "metadata": {},
   "outputs": [],
   "source": [
    "from sklearn.preprocessing import LabelBinarizer, OneHotEncoder,LabelEncoder\n",
    "from sklearn_pandas import gen_features\n",
    "\n",
    "impute_mode_cols = gen_features(\n",
    "    columns=X.select_dtypes('object').columns,\n",
    "    classes=[\n",
    "        {'class':CustomImputer,'method':'mode'},\n",
    "        {'class':LabelEncoder}\n",
    "    ]\n",
    ")"
   ]
  },
  {
   "cell_type": "code",
   "execution_count": 192,
   "id": "e946112f",
   "metadata": {},
   "outputs": [
    {
     "data": {
      "text/plain": [
       "array([[    0,  4137,     2,    38],\n",
       "       [    0, 45699,    10,    36],\n",
       "       [    0, 13767,    16,    24],\n",
       "       ...,\n",
       "       [    1,  8570,     4,    36],\n",
       "       [    0, 17503,    13,    39],\n",
       "       [    0, 35022,     5,    23]])"
      ]
     },
     "execution_count": 192,
     "metadata": {},
     "output_type": "execute_result"
    }
   ],
   "source": [
    "from sklearn.pipeline import FeatureUnion, make_union\n",
    "\n",
    "categorical_data_pipeline = make_union(\n",
    "    DataFrameMapper(impute_mode_cols, input_df=True, df_out=True)\n",
    ")\n",
    "categorical_data_pipeline.fit_transform(X)"
   ]
  },
  {
   "cell_type": "code",
   "execution_count": 188,
   "id": "423c47c0",
   "metadata": {},
   "outputs": [],
   "source": [
    "## Final pipeline for pre-processing our features\n",
    "features_pipeline = make_union(scaled_numerical_pipeline, \n",
    "                      categorical_data_pipeline)"
   ]
  },
  {
   "cell_type": "code",
   "execution_count": 191,
   "id": "f4e98208",
   "metadata": {},
   "outputs": [],
   "source": [
    "final_X = features_pipeline.fit_transform(X)"
   ]
  },
  {
   "cell_type": "markdown",
   "id": "dc333ad4",
   "metadata": {},
   "source": [
    "## Key Findings:\n",
    "\n",
    "    The key findings that we have found in the pre processing of our dataset are:\n",
    "        * Most of our numeric columns have binary values in them i.e 1 or 0. Except for age column.\n",
    "        \n",
    "        * Our age variable has some erroreneous entries in it. It has some outliers present in it, which \n",
    "          are being checked and removed by looking at their standard deviation from the mean value.\n",
    "          \n",
    "        * Missing values in numeric columns are replaced by median and then standardization was \n",
    "          applied on them.\n",
    "        \n",
    "        * Categorical columns does not have any missing values in them. They are converted to numeric \n",
    "          forms by using LabelEncoder.  "
   ]
  }
 ],
 "metadata": {
  "kernelspec": {
   "display_name": "Python 3",
   "language": "python",
   "name": "python3"
  },
  "language_info": {
   "codemirror_mode": {
    "name": "ipython",
    "version": 3
   },
   "file_extension": ".py",
   "mimetype": "text/x-python",
   "name": "python",
   "nbconvert_exporter": "python",
   "pygments_lexer": "ipython3",
   "version": "3.8.8"
  }
 },
 "nbformat": 4,
 "nbformat_minor": 5
}
