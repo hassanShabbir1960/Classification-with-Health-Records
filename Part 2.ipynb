{
 "cells": [
  {
   "cell_type": "markdown",
   "id": "4f7d3a3d",
   "metadata": {},
   "source": [
    "## Reading the data:\n",
    "    For reading the data, we are using pandas, it will read the data from the preprocessed data directory and load it into a dataframe."
   ]
  },
  {
   "cell_type": "code",
   "execution_count": 38,
   "id": "9e0b00fc",
   "metadata": {},
   "outputs": [],
   "source": [
    "import pandas as pd\n",
    "\n",
    "import warnings ## To ignore the warnings\n",
    "warnings.filterwarnings('ignore')\n",
    "\n",
    "traindf = pd.read_csv(\"Trainingdata.csv\")\n",
    "#testdf = pd.read_csv(\"Testdata.csv\")\n"
   ]
  },
  {
   "cell_type": "code",
   "execution_count": 32,
   "id": "5b330438",
   "metadata": {},
   "outputs": [
    {
     "data": {
      "text/plain": [
       "Index(['0', '0.1', '1', '2', '3', '4', '5', '6', '7', '8', '9', '10'], dtype='object')"
      ]
     },
     "execution_count": 32,
     "metadata": {},
     "output_type": "execute_result"
    }
   ],
   "source": [
    "traindf.columns"
   ]
  },
  {
   "cell_type": "markdown",
   "id": "0beb8654",
   "metadata": {},
   "source": [
    "## Seperating the independent and dependent variables"
   ]
  },
  {
   "cell_type": "code",
   "execution_count": 33,
   "id": "185199ea",
   "metadata": {},
   "outputs": [],
   "source": [
    "\n",
    "X_train=traindf.loc[:, traindf.columns != '0'] # It will contains all columns except our target column\n",
    "y_train=traindf.loc[:, traindf.columns == '0'] #It will contain target column"
   ]
  },
  {
   "cell_type": "code",
   "execution_count": 5,
   "id": "63831f8c",
   "metadata": {},
   "outputs": [],
   "source": [
    "\n",
    "X_test=traindf.loc[:, traindf.columns != '10'] # It will contains all columns except our target column\n",
    "y_test=traindf.loc[:, traindf.columns == '10'] #It will contain target column"
   ]
  },
  {
   "cell_type": "markdown",
   "id": "89a28e2a",
   "metadata": {},
   "source": [
    "## K Fold cross validation:"
   ]
  },
  {
   "cell_type": "code",
   "execution_count": 64,
   "id": "82be1212",
   "metadata": {},
   "outputs": [],
   "source": [
    "from sklearn.model_selection import KFold\n",
    "import seaborn as sns\n",
    "from sklearn.metrics import accuracy_score,roc_auc_score\n",
    "import numpy as np\n",
    "import matplotlib.pyplot as plt\n",
    "\n",
    "\n",
    "def k_fold_cross_validation(training_columns, labels, Classifier, name_of_model): \n",
    " \n",
    "\n",
    "    kf = KFold( shuffle=True,n_splits=10)# Initializing KFold object with 10 as k-value\n",
    "    accs=[]\n",
    "    training_columns_train_array = []\n",
    "    labels_train_array = []\n",
    "    training_columns_test_array = []\n",
    "    labels_test_array = []\n",
    "    iter = 0\n",
    "    print(\"Applying K fold cv algorithm for :\", (name_of_model))\n",
    "    for training_indices, test_indices in kf.split(training_columns):\n",
    "        iter += 1\n",
    "        print(\"iter \", iter)\n",
    "        training_columns_train_cv, labels_train_cv = training_columns.iloc[training_indices], labels.iloc[training_indices]\n",
    "        training_columns_test_cv, labels_test_cv = training_columns.iloc[test_indices], labels.iloc[test_indices]\n",
    "        training_columns_train_array.append(training_columns_train_cv) # adding training score for  the given iteration\n",
    "        training_columns_test_array.append(training_columns_test_cv) # adding test score for iteration\n",
    "        labels_train_array.append(labels_train_cv)  # adding training labels for  the given iteration\n",
    "        labels_test_array.append(labels_test_cv)  # adding test labels for  the given iteration\n",
    "        print(\"Shape of training training_columns: \", training_columns_train_cv.shape)\n",
    "        print(\"Shape of test training_columns: \", training_columns_test_cv.shape)\n",
    "        Classifier.fit(training_columns_train_cv, labels_train_cv) \n",
    "        preds = Classifier.predict(training_columns_test_cv)\n",
    "        score = accuracy_score(preds, labels_test_cv) # Calculating acc\n",
    "        accs.append(score) # adding k-fold  acc for each iter\n",
    "    print(\"List of k-fold  accs for {}: \".format(name_of_model), accs)\n",
    "    average_acc = np.mean(accs)\n",
    "    print(\"\\nAverage k-fold  acc for {}: \".format(name_of_model), average_acc)\n",
    "    print(\"\\nBest k-fold  acc for {}: \".format(name_of_model), max(accs))\n",
    "    maximum_acc_index = accs.index(max(accs)) # best k-fold  acc\n",
    "    maximum_acc_training_columns_train = training_columns_train_array[maximum_acc_index] # training training_columns corresponding to best k-fold  acc\n",
    "    maximum_acc_training_columns_test = training_columns_test_array[maximum_acc_index] # test training_columns corresponding to best k-fold  acc\n",
    "    maximum_acc_labels_train = labels_train_array[maximum_acc_index] # training labels corresponding to best k-fold  acc\n",
    "    maximum_acc_labels_test = labels_test_array[maximum_acc_index] # test labels corresponding to best k-fold  acc\n",
    "\n",
    " \n",
    "\n",
    "    return average_acc, maximum_acc_training_columns_train, maximum_acc_training_columns_test, maximum_acc_labels_train, maximum_acc_labels_test,accs\n",
    "\n",
    "\n",
    "\n",
    "## To visualize the performance of each Classifier, we will be noting its  accuracy\n",
    "from sklearn.metrics import classification_report,confusion_matrix\n",
    "import seaborn as sns\n",
    "def evaluate(max_acc_data_train, max_acc_data_test, max_acc_targets_train, max_acc_targets_test, targets, regr): \n",
    "    regr.fit(max_acc_data_train, max_acc_targets_train) #\n",
    "    targets_pred = regr.predict(max_acc_data_test) # Prediction on test data\n",
    "    \n",
    "    print(\"roc_auc_score\")\n",
    "    rep = roc_auc_score(max_acc_targets_test, targets_pred)\n",
    "    print(rep)\n",
    "    \n",
    "    \n",
    "    "
   ]
  },
  {
   "cell_type": "markdown",
   "id": "da1679f0",
   "metadata": {},
   "source": [
    "## Simple Classification models with default parameters:"
   ]
  },
  {
   "cell_type": "code",
   "execution_count": 65,
   "id": "81201206",
   "metadata": {},
   "outputs": [
    {
     "name": "stdout",
     "output_type": "stream",
     "text": [
      "Applying K fold cv algorithm for : DT\n",
      "iter  1\n",
      "Shape of training training_columns:  (80673, 11)\n",
      "Shape of test training_columns:  (8964, 11)\n",
      "iter  2\n",
      "Shape of training training_columns:  (80673, 11)\n",
      "Shape of test training_columns:  (8964, 11)\n",
      "iter  3\n",
      "Shape of training training_columns:  (80673, 11)\n",
      "Shape of test training_columns:  (8964, 11)\n",
      "iter  4\n",
      "Shape of training training_columns:  (80673, 11)\n",
      "Shape of test training_columns:  (8964, 11)\n",
      "iter  5\n",
      "Shape of training training_columns:  (80673, 11)\n",
      "Shape of test training_columns:  (8964, 11)\n",
      "iter  6\n",
      "Shape of training training_columns:  (80673, 11)\n",
      "Shape of test training_columns:  (8964, 11)\n",
      "iter  7\n",
      "Shape of training training_columns:  (80673, 11)\n",
      "Shape of test training_columns:  (8964, 11)\n",
      "iter  8\n",
      "Shape of training training_columns:  (80674, 11)\n",
      "Shape of test training_columns:  (8963, 11)\n",
      "iter  9\n",
      "Shape of training training_columns:  (80674, 11)\n",
      "Shape of test training_columns:  (8963, 11)\n",
      "iter  10\n",
      "Shape of training training_columns:  (80674, 11)\n",
      "Shape of test training_columns:  (8963, 11)\n",
      "List of k-fold  accs for DT:  [0.7272423025435074, 0.7150825524319501, 0.7189870593485052, 0.7246764837126283, 0.7246764837126283, 0.7317045961624274, 0.7354975457385096, 0.7264308825170144, 0.7339060582394288, 0.7332366395180185]\n",
      "\n",
      "Average k-fold  acc for DT:  0.7271440603924617\n",
      "\n",
      "Best k-fold  acc for DT:  0.7354975457385096\n",
      "roc_auc_score\n",
      "0.6000524110010653\n"
     ]
    },
    {
     "data": {
      "image/png": "[encoded data removed]",
      "text/plain": [
       "<Figure size 432x288 with 1 Axes>"
      ]
     },
     "metadata": {
      "needs_background": "light"
     },
     "output_type": "display_data"
    }
   ],
   "source": [
    "from sklearn.tree import DecisionTreeClassifier\n",
    "\n",
    "\n",
    "DT_clf = DecisionTreeClassifier() # DT Model\n",
    "DT_mean_accuracy, max_acc_data_train, max_acc_data_test, max_acc_targets_train, max_acc_targets_test,dt_scores = k_fold_cross_validation(X_train, y_train, DT_clf, \"DT\") # cross-validation\n",
    "evaluate(max_acc_data_train, max_acc_data_test, max_acc_targets_train, max_acc_targets_test, y_train, DT_clf) #  confusion matrix\n",
    "\n",
    "## Comparision through graphs\n",
    "\n",
    "\n",
    "## argument has accuracy values\n",
    "plt.plot(dt_scores,color='r',label=\"Decision Tree\")\n",
    "plt.legend(loc=\"best\")\n",
    "\n",
    "plt.title(\"Accuracy accross each fold\") ## Setting subtitle of fig 1\n",
    "plt.xlabel(\"Folds\") ## Setting x-label of fig 1\n",
    "plt.ylabel(\"Accuracy\"); ## Setting y-label of fig 1"
   ]
  },
  {
   "cell_type": "code",
   "execution_count": 66,
   "id": "369a82ff",
   "metadata": {},
   "outputs": [
    {
     "name": "stdout",
     "output_type": "stream",
     "text": [
      "Applying K fold cv algorithm for : RF\n",
      "iter  1\n",
      "Shape of training training_columns:  (80673, 11)\n",
      "Shape of test training_columns:  (8964, 11)\n",
      "iter  2\n",
      "Shape of training training_columns:  (80673, 11)\n",
      "Shape of test training_columns:  (8964, 11)\n",
      "iter  3\n",
      "Shape of training training_columns:  (80673, 11)\n",
      "Shape of test training_columns:  (8964, 11)\n",
      "iter  4\n",
      "Shape of training training_columns:  (80673, 11)\n",
      "Shape of test training_columns:  (8964, 11)\n",
      "iter  5\n",
      "Shape of training training_columns:  (80673, 11)\n",
      "Shape of test training_columns:  (8964, 11)\n",
      "iter  6\n",
      "Shape of training training_columns:  (80673, 11)\n",
      "Shape of test training_columns:  (8964, 11)\n",
      "iter  7\n",
      "Shape of training training_columns:  (80673, 11)\n",
      "Shape of test training_columns:  (8964, 11)\n",
      "iter  8\n",
      "Shape of training training_columns:  (80674, 11)\n",
      "Shape of test training_columns:  (8963, 11)\n",
      "iter  9\n",
      "Shape of training training_columns:  (80674, 11)\n",
      "Shape of test training_columns:  (8963, 11)\n",
      "iter  10\n",
      "Shape of training training_columns:  (80674, 11)\n",
      "Shape of test training_columns:  (8963, 11)\n",
      "List of k-fold  accs for RF:  [0.7920571173583222, 0.7985274431057564, 0.7904953145917001, 0.7997545738509594, 0.7932842481035252, 0.7967425256581883, 0.8002008032128514, 0.7948231618877608, 0.7977239763472052, 0.7983933950686154]\n",
      "\n",
      "Average k-fold  acc for RF:  0.7962002559184883\n",
      "\n",
      "Best k-fold  acc for RF:  0.8002008032128514\n",
      "roc_auc_score\n",
      "0.563444422626148\n"
     ]
    },
    {
     "data": {
      "image/png": "[encoded data removed]",
      "text/plain": [
       "<Figure size 432x288 with 1 Axes>"
      ]
     },
     "metadata": {
      "needs_background": "light"
     },
     "output_type": "display_data"
    }
   ],
   "source": [
    "from sklearn.ensemble import RandomForestClassifier\n",
    "\n",
    "DT_clf = RandomForestClassifier() # DT Model\n",
    "DT_mean_accuracy, max_acc_data_train, max_acc_data_test, max_acc_targets_train, max_acc_targets_test,dt_scores = k_fold_cross_validation(X_train, y_train, DT_clf, \"RF\") # cross-validation\n",
    "evaluate(max_acc_data_train, max_acc_data_test, max_acc_targets_train, max_acc_targets_test, y_train, DT_clf) #  confusion matrix\n",
    "\n",
    "## Comparision through graphs\n",
    "\n",
    "\n",
    "## argument has accuracy values\n",
    "plt.plot(dt_scores,color='r',label=\"Random Forest\")\n",
    "plt.legend(loc=\"best\")\n",
    "\n",
    "plt.title(\"Accuracy accross each fold\") ## Setting subtitle of fig 1\n",
    "plt.xlabel(\"Folds\") ## Setting x-label of fig 1\n",
    "plt.ylabel(\"Accuracy\"); ## Setting y-label of fig 1"
   ]
  },
  {
   "cell_type": "code",
   "execution_count": 67,
   "id": "c89ec301",
   "metadata": {},
   "outputs": [
    {
     "name": "stdout",
     "output_type": "stream",
     "text": [
      "Applying K fold cv algorithm for : LinearSVC\n",
      "iter  1\n",
      "Shape of training training_columns:  (80673, 11)\n",
      "Shape of test training_columns:  (8964, 11)\n",
      "iter  2\n",
      "Shape of training training_columns:  (80673, 11)\n",
      "Shape of test training_columns:  (8964, 11)\n",
      "iter  3\n",
      "Shape of training training_columns:  (80673, 11)\n",
      "Shape of test training_columns:  (8964, 11)\n",
      "iter  4\n",
      "Shape of training training_columns:  (80673, 11)\n",
      "Shape of test training_columns:  (8964, 11)\n",
      "iter  5\n",
      "Shape of training training_columns:  (80673, 11)\n",
      "Shape of test training_columns:  (8964, 11)\n",
      "iter  6\n",
      "Shape of training training_columns:  (80673, 11)\n",
      "Shape of test training_columns:  (8964, 11)\n",
      "iter  7\n",
      "Shape of training training_columns:  (80673, 11)\n",
      "Shape of test training_columns:  (8964, 11)\n",
      "iter  8\n",
      "Shape of training training_columns:  (80674, 11)\n",
      "Shape of test training_columns:  (8963, 11)\n",
      "iter  9\n",
      "Shape of training training_columns:  (80674, 11)\n",
      "Shape of test training_columns:  (8963, 11)\n",
      "iter  10\n",
      "Shape of training training_columns:  (80674, 11)\n",
      "Shape of test training_columns:  (8963, 11)\n",
      "List of k-fold  accs for LinearSVC:  [0.24375278893351182, 0.7973003123605533, 0.7957385095939313, 0.3167112896028559, 0.7936189201249442, 0.6394466755912539, 0.7970771976796073, 0.8014057793149615, 0.7957157201829744, 0.296664063371639]\n",
      "\n",
      "Average k-fold  acc for LinearSVC:  0.6277431256756232\n",
      "\n",
      "Best k-fold  acc for LinearSVC:  0.8014057793149615\n",
      "roc_auc_score\n",
      "0.5\n"
     ]
    },
    {
     "data": {
      "image/png": "[encoded data removed]",
      "text/plain": [
       "<Figure size 432x288 with 1 Axes>"
      ]
     },
     "metadata": {
      "needs_background": "light"
     },
     "output_type": "display_data"
    }
   ],
   "source": [
    "from sklearn.svm import LinearSVC\n",
    "\n",
    "\n",
    "DT_clf = LinearSVC() #  Model\n",
    "DT_mean_accuracy, max_acc_data_train, max_acc_data_test, max_acc_targets_train, max_acc_targets_test,dt_scores = k_fold_cross_validation(X_train, y_train, DT_clf, \"LinearSVC\") # cross-validation\n",
    "evaluate(max_acc_data_train, max_acc_data_test, max_acc_targets_train, max_acc_targets_test, y_train, DT_clf) #  confusion matrix\n",
    "\n",
    "## Comparision through graphs\n",
    "\n",
    "\n",
    "## argument has accuracy values\n",
    "plt.plot(dt_scores,color='r',label=\"LinearSVC \")\n",
    "plt.legend(loc=\"best\")\n",
    "\n",
    "plt.title(\"Accuracy accross each fold\") ## Setting subtitle of fig 1\n",
    "plt.xlabel(\"Folds\") ## Setting x-label of fig 1\n",
    "plt.ylabel(\"Accuracy\"); ## Setting y-label of fig 1"
   ]
  },
  {
   "cell_type": "code",
   "execution_count": 76,
   "id": "d0df2e55",
   "metadata": {},
   "outputs": [
    {
     "name": "stdout",
     "output_type": "stream",
     "text": [
      "Applying K fold cv algorithm for : SVC\n",
      "iter  1\n",
      "Shape of training training_columns:  (80673, 11)\n",
      "Shape of test training_columns:  (8964, 11)\n",
      "iter  2\n",
      "Shape of training training_columns:  (80673, 11)\n",
      "Shape of test training_columns:  (8964, 11)\n",
      "iter  3\n",
      "Shape of training training_columns:  (80673, 11)\n",
      "Shape of test training_columns:  (8964, 11)\n",
      "iter  4\n",
      "Shape of training training_columns:  (80673, 11)\n",
      "Shape of test training_columns:  (8964, 11)\n",
      "iter  5\n",
      "Shape of training training_columns:  (80673, 11)\n",
      "Shape of test training_columns:  (8964, 11)\n",
      "iter  6\n",
      "Shape of training training_columns:  (80673, 11)\n",
      "Shape of test training_columns:  (8964, 11)\n",
      "iter  7\n",
      "Shape of training training_columns:  (80673, 11)\n",
      "Shape of test training_columns:  (8964, 11)\n",
      "iter  8\n",
      "Shape of training training_columns:  (80674, 11)\n",
      "Shape of test training_columns:  (8963, 11)\n",
      "iter  9\n",
      "Shape of training training_columns:  (80674, 11)\n",
      "Shape of test training_columns:  (8963, 11)\n",
      "iter  10\n",
      "Shape of training training_columns:  (80674, 11)\n",
      "Shape of test training_columns:  (8963, 11)\n",
      "List of k-fold  accs for SVC:  [0.8005354752342704, 0.7989736724676484, 0.8018741633199464, 0.7916108879964302, 0.7984158857652833, 0.7955153949129853, 0.7938420348058902, 0.7991743835769274, 0.803525605266094, 0.7971661274126967]\n",
      "\n",
      "Average k-fold  acc for SVC:  0.7980633630758172\n",
      "\n",
      "Best k-fold  acc for SVC:  0.803525605266094\n",
      "roc_auc_score\n",
      "0.5\n"
     ]
    },
    {
     "data": {
      "image/png": "[encoded data removed]",
      "text/plain": [
       "<Figure size 432x288 with 1 Axes>"
      ]
     },
     "metadata": {
      "needs_background": "light"
     },
     "output_type": "display_data"
    }
   ],
   "source": [
    "from sklearn.svm import SVC\n",
    "\n",
    "\n",
    "DT_clf = SVC(kernel='rbf') #  Model\n",
    "DT_mean_accuracy, max_acc_data_train, max_acc_data_test, max_acc_targets_train, max_acc_targets_test,dt_scores = k_fold_cross_validation(X_train[:100000], y_train[:100000], DT_clf, \"SVC\") # cross-validation\n",
    "evaluate(max_acc_data_train, max_acc_data_test, max_acc_targets_train, max_acc_targets_test, y_train, DT_clf) #  confusion matrix\n",
    "\n",
    "## Comparision through graphs\n",
    "\n",
    "\n",
    "## argument has accuracy values\n",
    "plt.plot(dt_scores,color='r',label=\"SVC \")\n",
    "plt.legend(loc=\"best\")\n",
    "\n",
    "plt.title(\"Accuracy accross each fold\") ## Setting subtitle of fig 1\n",
    "plt.xlabel(\"Folds\") ## Setting x-label of fig 1\n",
    "plt.ylabel(\"Accuracy\"); ## Setting y-label of fig 1"
   ]
  },
  {
   "cell_type": "markdown",
   "id": "b58f935d",
   "metadata": {},
   "source": [
    "### Reporting estimated performances. "
   ]
  },
  {
   "cell_type": "markdown",
   "id": "b62e140a",
   "metadata": {},
   "source": [
    "| Classifier | AUC score | Accuracy |\n",
    "| --- | --- | --- |\n",
    "| RF | .56 | .79 |\n",
    "| DT | .60 | .73 |\n",
    "| Linear SVC | .5 | .80 |\n",
    "| Rbf SVC | .5 | .80 |\n"
   ]
  },
  {
   "cell_type": "markdown",
   "id": "5488d3b2",
   "metadata": {},
   "source": [
    "### Should you use accuracy or AUC as a metric for this task?"
   ]
  },
  {
   "cell_type": "markdown",
   "id": "16f00bd0",
   "metadata": {},
   "source": [
    "    AUC is in fact often preferred over accuracy for binary classification. Although both metrics have intuitive interpretations. For this task AUC is prefered. The reason for this is that computing the AUC is equivalent to defining a misclassification loss function (which reflects the relative gravity of misclassifying one class over the other), and averaging it over the distribution of the scores of the points in your dataset. The problem here is that those scores are produced by the fitted model, and as such they change whenever we change the model itself, be it the type of algorithm or just the parameters/hyperparameters."
   ]
  },
  {
   "cell_type": "markdown",
   "id": "7637c254",
   "metadata": {},
   "source": [
    "## Hyper parameter tuning:"
   ]
  },
  {
   "cell_type": "code",
   "execution_count": 45,
   "id": "b944d78d",
   "metadata": {},
   "outputs": [
    {
     "name": "stdout",
     "output_type": "stream",
     "text": [
      "Best: parameters {'max_depth': None, 'max_leaf_nodes': None, 'min_impurity_decrease': 0.1}\n"
     ]
    }
   ],
   "source": [
    "\n",
    "from sklearn.tree import DecisionTreeClassifier\n",
    "from sklearn.model_selection import RepeatedStratifiedKFold\n",
    "model = DecisionTreeClassifier()\n",
    "\n",
    "min_impurity_decreases = [0.1,0.5,0.8]\n",
    "max_depths = [None, 5, 10, 15]\n",
    "max_leaf_Nodes = [None, 10,100]\n",
    "# define grid search\n",
    "from sklearn.model_selection import GridSearchCV\n",
    "grid = dict(min_impurity_decrease=min_impurity_decreases,max_depth=max_depths,max_leaf_nodes=max_leaf_Nodes)\n",
    "cv = RepeatedStratifiedKFold(n_splits=10, n_repeats=3, random_state=1)\n",
    "grid_search = GridSearchCV(estimator=model, param_grid=grid, n_jobs=-1, cv=cv)\n",
    "grid_result = grid_search.fit(X_train[:1000], y_train[:1000])\n",
    "# summarize results\n",
    "\n",
    "print(\"Best: parameters %s\" % ( grid_result.best_params_))"
   ]
  },
  {
   "cell_type": "code",
   "execution_count": 46,
   "id": "fa0b109d",
   "metadata": {},
   "outputs": [
    {
     "name": "stdout",
     "output_type": "stream",
     "text": [
      "Fitting 3 folds for each of 72 candidates, totalling 216 fits\n"
     ]
    },
    {
     "data": {
      "text/plain": [
       "{'max_depth': 80,\n",
       " 'max_features': 3,\n",
       " 'min_samples_leaf': 3,\n",
       " 'min_samples_split': 10,\n",
       " 'n_estimators': 100}"
      ]
     },
     "execution_count": 46,
     "metadata": {},
     "output_type": "execute_result"
    }
   ],
   "source": [
    "\n",
    "# Create the parameter grid based on the results of random search \n",
    "param_grid = {\n",
    "    'max_depth': [80, 90],\n",
    "    'max_features': [2, 3],\n",
    "    'min_samples_leaf': [3, 4, 5],\n",
    "    'min_samples_split': [8, 10],\n",
    "    'n_estimators': [100, 200, 300]\n",
    "}\n",
    "# Create a based model\n",
    "rf = RandomForestClassifier()\n",
    "# Instantiate the grid search model\n",
    "grid_search = GridSearchCV(estimator = rf, param_grid = param_grid, \n",
    "                          cv = 3, n_jobs = -1, verbose = 3)\n",
    "\n",
    "\n",
    "# Fit the grid search to the data\n",
    "grid_search.fit(X_train[:1000], y_train[:1000])\n",
    "grid_search.best_params_"
   ]
  },
  {
   "cell_type": "code",
   "execution_count": 74,
   "id": "fb482d65",
   "metadata": {},
   "outputs": [
    {
     "name": "stdout",
     "output_type": "stream",
     "text": [
      "Applying K fold cv algorithm for : DT\n",
      "iter  1\n",
      "Shape of training training_columns:  (80673, 11)\n",
      "Shape of test training_columns:  (8964, 11)\n",
      "iter  2\n",
      "Shape of training training_columns:  (80673, 11)\n",
      "Shape of test training_columns:  (8964, 11)\n",
      "iter  3\n",
      "Shape of training training_columns:  (80673, 11)\n",
      "Shape of test training_columns:  (8964, 11)\n",
      "iter  4\n",
      "Shape of training training_columns:  (80673, 11)\n",
      "Shape of test training_columns:  (8964, 11)\n",
      "iter  5\n",
      "Shape of training training_columns:  (80673, 11)\n",
      "Shape of test training_columns:  (8964, 11)\n",
      "iter  6\n",
      "Shape of training training_columns:  (80673, 11)\n",
      "Shape of test training_columns:  (8964, 11)\n",
      "iter  7\n",
      "Shape of training training_columns:  (80673, 11)\n",
      "Shape of test training_columns:  (8964, 11)\n",
      "iter  8\n",
      "Shape of training training_columns:  (80674, 11)\n",
      "Shape of test training_columns:  (8963, 11)\n",
      "iter  9\n",
      "Shape of training training_columns:  (80674, 11)\n",
      "Shape of test training_columns:  (8963, 11)\n",
      "iter  10\n",
      "Shape of training training_columns:  (80674, 11)\n",
      "Shape of test training_columns:  (8963, 11)\n",
      "List of k-fold  accs for DT:  [0.7957385095939313, 0.7995314591700133, 0.7907184292726461, 0.8070058009817046, 0.8044399821508256, 0.7929495760821063, 0.8049977688531905, 0.7963851389043847, 0.8017404886756666, 0.787124846591543]\n",
      "\n",
      "Average k-fold  acc for DT:  0.7980632000276012\n",
      "\n",
      "Best k-fold  acc for DT:  0.8070058009817046\n",
      "roc_auc_score\n",
      "0.5\n"
     ]
    },
    {
     "data": {
      "image/png": "[encoded data removed]",
      "text/plain": [
       "<Figure size 432x288 with 1 Axes>"
      ]
     },
     "metadata": {
      "needs_background": "light"
     },
     "output_type": "display_data"
    }
   ],
   "source": [
    "from sklearn.tree import DecisionTreeClassifier\n",
    "\n",
    "\n",
    "DT_clf = DecisionTreeClassifier(max_depth=None, max_leaf_nodes=None, min_impurity_decrease=0.1) # DT Model\n",
    "DT_mean_accuracy, max_acc_data_train, max_acc_data_test, max_acc_targets_train, max_acc_targets_test,dt_scores = k_fold_cross_validation(X_train, y_train, DT_clf, \"DT\") # cross-validation\n",
    "evaluate(max_acc_data_train, max_acc_data_test, max_acc_targets_train, max_acc_targets_test, y_train, DT_clf) #  confusion matrix\n",
    "\n",
    "## Comparision through graphs\n",
    "\n",
    "\n",
    "## argument has accuracy values\n",
    "plt.plot(dt_scores,color='r',label=\"Decision Tree\")\n",
    "plt.legend(loc=\"best\")\n",
    "\n",
    "plt.title(\"Accuracy accross each fold\") ## Setting subtitle of fig 1\n",
    "plt.xlabel(\"Folds\") ## Setting x-label of fig 1\n",
    "plt.ylabel(\"Accuracy\"); ## Setting y-label of fig 1"
   ]
  },
  {
   "cell_type": "code",
   "execution_count": 75,
   "id": "65631c67",
   "metadata": {},
   "outputs": [
    {
     "name": "stdout",
     "output_type": "stream",
     "text": [
      "Applying K fold cv algorithm for : RF\n",
      "iter  1\n",
      "Shape of training training_columns:  (80673, 11)\n",
      "Shape of test training_columns:  (8964, 11)\n",
      "iter  2\n",
      "Shape of training training_columns:  (80673, 11)\n",
      "Shape of test training_columns:  (8964, 11)\n",
      "iter  3\n",
      "Shape of training training_columns:  (80673, 11)\n",
      "Shape of test training_columns:  (8964, 11)\n",
      "iter  4\n",
      "Shape of training training_columns:  (80673, 11)\n",
      "Shape of test training_columns:  (8964, 11)\n",
      "iter  5\n",
      "Shape of training training_columns:  (80673, 11)\n",
      "Shape of test training_columns:  (8964, 11)\n",
      "iter  6\n",
      "Shape of training training_columns:  (80673, 11)\n",
      "Shape of test training_columns:  (8964, 11)\n",
      "iter  7\n",
      "Shape of training training_columns:  (80673, 11)\n",
      "Shape of test training_columns:  (8964, 11)\n",
      "iter  8\n",
      "Shape of training training_columns:  (80674, 11)\n",
      "Shape of test training_columns:  (8963, 11)\n",
      "iter  9\n",
      "Shape of training training_columns:  (80674, 11)\n",
      "Shape of test training_columns:  (8963, 11)\n",
      "iter  10\n",
      "Shape of training training_columns:  (80674, 11)\n",
      "Shape of test training_columns:  (8963, 11)\n",
      "List of k-fold  accs for RF:  [0.7984158857652833, 0.8016510486390005, 0.7952922802320392, 0.8007585899152164, 0.7990852298081214, 0.7965194109772423, 0.8077867023650156, 0.8050875822827178, 0.8043065937744059, 0.8060917103648332]\n",
      "\n",
      "Average k-fold  acc for RF:  0.8014995034123876\n",
      "\n",
      "Best k-fold  acc for RF:  0.8077867023650156\n",
      "roc_auc_score\n",
      "0.5263108997456417\n"
     ]
    },
    {
     "data": {
      "image/png": "[encoded data removed]",
      "text/plain": [
       "<Figure size 432x288 with 1 Axes>"
      ]
     },
     "metadata": {
      "needs_background": "light"
     },
     "output_type": "display_data"
    }
   ],
   "source": [
    "from sklearn.ensemble import RandomForestClassifier\n",
    "\n",
    "DT_clf = RandomForestClassifier(max_depth=80,\n",
    " max_features=3,\n",
    " min_samples_leaf=3,\n",
    " min_samples_split=10,\n",
    " n_estimators=100) # DT Model\n",
    "DT_mean_accuracy, max_acc_data_train, max_acc_data_test, max_acc_targets_train, max_acc_targets_test,dt_scores = k_fold_cross_validation(X_train, y_train, DT_clf, \"RF\") # cross-validation\n",
    "evaluate(max_acc_data_train, max_acc_data_test, max_acc_targets_train, max_acc_targets_test, y_train, DT_clf) #  confusion matrix\n",
    "\n",
    "## Comparision through graphs\n",
    "\n",
    "\n",
    "## argument has accuracy values\n",
    "plt.plot(dt_scores,color='r',label=\"Random Forest\")\n",
    "plt.legend(loc=\"best\")\n",
    "\n",
    "plt.title(\"Accuracy accross each fold\") ## Setting subtitle of fig 1\n",
    "plt.xlabel(\"Folds\") ## Setting x-label of fig 1\n",
    "plt.ylabel(\"Accuracy\"); ## Setting y-label of fig 1"
   ]
  },
  {
   "cell_type": "markdown",
   "id": "b87d3206",
   "metadata": {},
   "source": [
    "###  Estimated performance for the tuned classifiers."
   ]
  },
  {
   "cell_type": "markdown",
   "id": "c07ee16b",
   "metadata": {},
   "source": [
    "| Classifier | AUC score | Accuracy |\n",
    "| --- | --- | --- |\n",
    "| RF | .52 | .80 |\n",
    "| DT | .5 | .80 |"
   ]
  },
  {
   "cell_type": "markdown",
   "id": "447d467a",
   "metadata": {},
   "source": [
    "## SVM:"
   ]
  },
  {
   "cell_type": "code",
   "execution_count": 49,
   "id": "9788d840",
   "metadata": {},
   "outputs": [],
   "source": [
    "class svc:\n",
    "    def __init__(self , C = 0.01 , number_of_iterations = 100 , learning_rate = 0.1):\n",
    " \n",
    "        self.c = C\n",
    "        self.iteration = number_of_iterations\n",
    "        self.lr = learning_rate\n",
    "            \n",
    "    def fit(self , x , y):\n",
    "        self.x = x\n",
    "        self.y = y\n",
    "        \n",
    "        w = np.zeros([1 , x.shape[1]])\n",
    "        b = 0\n",
    "        \n",
    "        costs = np.zeros(self.iteration)\n",
    "        for i in range(self.iteration):\n",
    "            cost = x @ w.T + b\n",
    "            b = b - self.lr * self.c * sum(cost - y) \n",
    "            w = w - self.lr * self.c * sum((cost - y)*x) \n",
    "            costs[i] = self.c * sum( (y * cost)  + (1 - y)*cost ) + (1/2)* sum(w.T**2)\n",
    "        \n",
    "        self.w = w\n",
    "        self.b = b \n",
    "        self.costs = costs\n",
    "        \n",
    "    \n",
    "    def predict(self , x_test):\n",
    "        pred_y =  []\n",
    "        svc = x_test @ self.w.T + self.b\n",
    "        for i in svc:\n",
    "            if i >= 0:\n",
    "                pred_y.append(1)\n",
    "            else:\n",
    "                pred_y.append(0)\n",
    "        \n",
    "        return pred_y"
   ]
  },
  {
   "cell_type": "code",
   "execution_count": 55,
   "id": "a398b2bc",
   "metadata": {},
   "outputs": [],
   "source": [
    "clf = svc()\n",
    "\n",
    "clf.fit(X_train.values, y_train.values.reshape([len(y_train) , 1]))"
   ]
  },
  {
   "cell_type": "code",
   "execution_count": 61,
   "id": "9ed4add8",
   "metadata": {},
   "outputs": [
    {
     "name": "stdout",
     "output_type": "stream",
     "text": [
      "Accuracy for our custom SVM is 0.79806329975345\n"
     ]
    }
   ],
   "source": [
    "preds = clf.predict(X_train.values)\n",
    "print(\"Accuracy for our custom SVM is\",accuracy_score(preds,y_train))"
   ]
  },
  {
   "cell_type": "markdown",
   "id": "6095957d",
   "metadata": {},
   "source": [
    "### Performance comparison"
   ]
  },
  {
   "cell_type": "markdown",
   "id": "d459230d",
   "metadata": {},
   "source": [
    "    We have very similar results for SVM implemented in sklearn and our own custome implementation.  In the case of the simple SVM we used \"linear\" kernel. However, the performance of sklearn provides rbf kernel too, which has better performance than simple linear classsifier."
   ]
  },
  {
   "cell_type": "markdown",
   "id": "ab9b53ad",
   "metadata": {},
   "source": [
    "## Key Findings:\n",
    "    \n",
    "    * According to the model's predictions, most of the patients show up on the appointment date.\n",
    "    * Person with some disbailities miss some of the appointments.\n",
    "    * The data set is linearly seperable, which means a linear clsssifer can easily predict the boundaries of both classes.\n",
    "    * Random Forest outperforms other algorithm in most of the cases.\n",
    "    * The data set is imabalanced, so a metric like AUC is more interpretable in this case.\n",
    "    * Maximum accuracy achieved by our models is 80% on the test data set."
   ]
  }
 ],
 "metadata": {
  "kernelspec": {
   "display_name": "Python 3",
   "language": "python",
   "name": "python3"
  },
  "language_info": {
   "codemirror_mode": {
    "name": "ipython",
    "version": 3
   },
   "file_extension": ".py",
   "mimetype": "text/x-python",
   "name": "python",
   "nbconvert_exporter": "python",
   "pygments_lexer": "ipython3",
   "version": "3.8.8"
  }
 },
 "nbformat": 4,
 "nbformat_minor": 5
}
